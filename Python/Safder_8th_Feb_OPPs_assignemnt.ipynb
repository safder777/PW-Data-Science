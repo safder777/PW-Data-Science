{
 "cells": [
  {
   "cell_type": "markdown",
   "id": "3e94c5f1",
   "metadata": {},
   "source": [
    "### Safder Shakil"
   ]
  },
  {
   "cell_type": "markdown",
   "id": "c5939eca",
   "metadata": {},
   "source": [
    "- Abstraction in OOPs is the concept of hiding the complex implementation details of a system while exposing only the essential features to the user. In Python, abstraction is often implemented using abstract classes and interfaces."
   ]
  },
  {
   "cell_type": "code",
   "execution_count": 1,
   "id": "98996d93",
   "metadata": {},
   "outputs": [
    {
     "name": "stdout",
     "output_type": "stream",
     "text": [
      "Area: 50\n",
      "Perimeter: 30\n"
     ]
    }
   ],
   "source": [
    "from abc import ABC, abstractmethod\n",
    "\n",
    "# Abstract class\n",
    "class Shape(ABC):\n",
    "    @abstractmethod\n",
    "    def area(self):\n",
    "        pass\n",
    "\n",
    "    @abstractmethod\n",
    "    def perimeter(self):\n",
    "        pass\n",
    "\n",
    "# Concrete class\n",
    "class Rectangle(Shape):\n",
    "    def __init__(self, width, height):\n",
    "        self.width = width\n",
    "        self.height = height\n",
    "\n",
    "    def area(self):\n",
    "        return self.width * self.height\n",
    "\n",
    "    def perimeter(self):\n",
    "        return 2 * (self.width + self.height)\n",
    "\n",
    "# Usage\n",
    "rect = Rectangle(10, 5)\n",
    "print(\"Area:\", rect.area())          # Output: Area: 50\n",
    "print(\"Perimeter:\", rect.perimeter()) # Output: Perimeter: 30\n"
   ]
  },
  {
   "cell_type": "markdown",
   "id": "8094674b",
   "metadata": {},
   "source": [
    "Q2 . Differentiate between Abstraction and Encapsulation. Explain with an example."
   ]
  },
  {
   "cell_type": "markdown",
   "id": "55189b52",
   "metadata": {},
   "source": [
    "- Abstraction focuses on hiding complexity by providing a simple interface to interact with, while Encapsulation focuses on bundling data and methods together and controlling access to the internal state of the object.\n",
    " Abstraction deals with \"what\" an object does, while Encapsulation deals with \"how\" the object controls access to its data."
   ]
  },
  {
   "cell_type": "code",
   "execution_count": 3,
   "id": "4ebddbc4",
   "metadata": {},
   "outputs": [
    {
     "name": "stdout",
     "output_type": "stream",
     "text": [
      "Engine started\n",
      "Balance: 1500\n",
      "Balance: 1500\n"
     ]
    }
   ],
   "source": [
    "# Abstraction Example\n",
    "from abc import ABC, abstractmethod\n",
    "\n",
    "class Vehicle(ABC):\n",
    "    @abstractmethod\n",
    "    def start_engine(self):\n",
    "        pass\n",
    "\n",
    "class Car(Vehicle):\n",
    "    def start_engine(self):\n",
    "        print(\"Engine started\")\n",
    "\n",
    "# Encapsulation Example\n",
    "class BankAccount:\n",
    "    def __init__(self, balance):\n",
    "        self.__balance = balance  # Private attribute\n",
    "\n",
    "    def deposit(self, amount):\n",
    "        self.__balance += amount\n",
    "\n",
    "    def withdraw(self, amount):\n",
    "        if amount <= self.__balance:\n",
    "            self.__balance -= amount\n",
    "        else:\n",
    "            print(\"Insufficient funds\")\n",
    "\n",
    "    def get_balance(self):\n",
    "        return self.__balance\n",
    "\n",
    "# Abstraction in action\n",
    "my_car = Car()\n",
    "my_car.start_engine()  # Output: Engine started\n",
    "\n",
    "# Encapsulation in action\n",
    "account = BankAccount(1000)\n",
    "account.deposit(500)\n",
    "print(\"Balance:\", account.get_balance())  # Output: Balance: 1500\n",
    "account.__balance = 2000  # This won't change the balance due to encapsulation\n",
    "print(\"Balance:\", account.get_balance())  # Output: Balance: 1500\n"
   ]
  },
  {
   "cell_type": "markdown",
   "id": "5ccba7d6",
   "metadata": {},
   "source": [
    "Q3. What is abc module in python? Why is it used?"
   ]
  },
  {
   "cell_type": "markdown",
   "id": "a8519808",
   "metadata": {},
   "source": [
    "The abc module in Python stands for \"Abstract Base Classes.\" It is used to define abstract classes and methods, providing a way to create classes that cannot be instantiated directly and to ensure that derived classes implement specific methods.\n",
    "\n",
    "Key Features of the abc Module:\n",
    "Abstract Base Classes (ABCs):\n",
    "\n",
    "You can define an abstract class using ABC as a base class.\n",
    "Abstract classes may contain abstract methods, which are methods that have no implementation in the abstract class and must be implemented by any subclass.\n",
    "Abstract Methods:\n",
    "\n",
    "You define abstract methods using the @abstractmethod decorator.\n",
    "Subclasses of the abstract class are required to provide implementations for these abstract methods.\n",
    "Enforcement of Method Implementation:\n",
    "\n",
    "By using abstract methods, the abc module enforces that subclasses implement specific methods, helping to ensure a consistent interface.\n",
    "\n",
    "Why Use the abc Module:\n",
    "Define Interfaces: It helps define a common interface that must be implemented by any subclass, providing a clear contract for what methods must be available.\n",
    "Prevent Instantiation: It allows you to create classes that cannot be instantiated directly. This is useful for defining templates or blueprints that should only be used as base classes.\n",
    "Enforce Method Implementation: It enforces that subclasses implement the required methods, promoting consistent and predictable behavior across different classes."
   ]
  },
  {
   "cell_type": "markdown",
   "id": "9a95884a",
   "metadata": {},
   "source": [
    "Q4. How can we achieve data abstraction?"
   ]
  },
  {
   "cell_type": "markdown",
   "id": "ff71396d",
   "metadata": {},
   "source": [
    "- Using Encapsulation:\n",
    "\n",
    "Private Data: Use private variables and methods to hide the internal state.\n",
    "\n",
    "Public Methods: Expose controlled access through public methods.\n",
    "\n",
    "- Using Abstract Base Classes (ABCs):\n",
    "\n",
    "Define Abstract Classes: Use the abc module to create classes with abstract methods that must be implemented by subclasses.\n",
    "\n",
    "Implement in Subclasses: Subclasses provide the specific implementations.\n",
    "\n",
    "- Using Classes:\n",
    "\n",
    "Define a Class: Create a class to encapsulate data and methods.\n",
    "\n",
    "Hide Details: Use private attributes (e.g., prefix with __) to hide internal data and provide public methods for access."
   ]
  },
  {
   "cell_type": "markdown",
   "id": "5f9aaacd",
   "metadata": {},
   "source": [
    "Q5. How can we create an instance of an abstract class? Explain your answer."
   ]
  },
  {
   "cell_type": "markdown",
   "id": "f810d2e0",
   "metadata": {},
   "source": [
    "In Python, you cannot create an instance of an abstract class directly. Abstract classes are meant to be templates for other classes, and they cannot be instantiated themselves. Instead, abstract classes define a common interface and potentially some shared behavior that must be implemented by concrete (non-abstract) subclasses.\n",
    "\n",
    "Why You Cannot Instantiate an Abstract Class\n",
    "Abstract Methods: Abstract classes often contain abstract methods that have no implementation. These methods are meant to be overridden in concrete subclasses. Since abstract methods do not have an implementation, an abstract class cannot be instantiated directly.\n",
    "\n",
    "Purpose: Abstract classes are designed to provide a common interface and enforce that certain methods are implemented by subclasses, thus promoting a consistent design."
   ]
  },
  {
   "cell_type": "code",
   "execution_count": null,
   "id": "b2d63559",
   "metadata": {},
   "outputs": [],
   "source": []
  }
 ],
 "metadata": {
  "kernelspec": {
   "display_name": "Python 3 (ipykernel)",
   "language": "python",
   "name": "python3"
  },
  "language_info": {
   "codemirror_mode": {
    "name": "ipython",
    "version": 3
   },
   "file_extension": ".py",
   "mimetype": "text/x-python",
   "name": "python",
   "nbconvert_exporter": "python",
   "pygments_lexer": "ipython3",
   "version": "3.11.4"
  }
 },
 "nbformat": 4,
 "nbformat_minor": 5
}
