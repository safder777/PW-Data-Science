{
 "cells": [
  {
   "cell_type": "markdown",
   "id": "2bf269e1",
   "metadata": {},
   "source": [
    "## Assignment 3"
   ]
  },
  {
   "cell_type": "markdown",
   "id": "4f0db711",
   "metadata": {},
   "source": [
    "Q1"
   ]
  },
  {
   "cell_type": "code",
   "execution_count": 1,
   "id": "5393ebc0",
   "metadata": {},
   "outputs": [
    {
     "name": "stdout",
     "output_type": "stream",
     "text": [
      "('Virat Kohli', 24936)\n",
      "('Jack Kallis', 25534)\n",
      "('Ricky Ponting', 27483)\n",
      "('Sachin Tendulkar', 34357)\n"
     ]
    }
   ],
   "source": [
    "\n",
    "data = [('Sachin Tendulkar', 34357), ('Ricky Ponting', 27483), \n",
    "        ('Jack Kallis', 25534),\n",
    "        ('Virat Kohli', 24936)]\n",
    "\n",
    "\n",
    "sorted_data = sorted(data, key=lambda x: x[1])\n",
    "\n",
    "\n",
    "for item in sorted_data:\n",
    "    print(item)\n"
   ]
  },
  {
   "cell_type": "markdown",
   "id": "ebd2ac9a",
   "metadata": {},
   "source": [
    "Q2"
   ]
  },
  {
   "cell_type": "code",
   "execution_count": 2,
   "id": "76ec95ce",
   "metadata": {},
   "outputs": [
    {
     "name": "stdout",
     "output_type": "stream",
     "text": [
      "[1, 4, 9, 16, 25, 36, 49, 64, 81, 100]\n"
     ]
    }
   ],
   "source": [
    "numbers=[1,2,3,4,5,6,7,8,9,10]\n",
    "squares=list(map(lambda x: x**2,numbers))\n",
    "\n",
    "print(squares)"
   ]
  },
  {
   "cell_type": "markdown",
   "id": "cd315d85",
   "metadata": {},
   "source": [
    "Q3    "
   ]
  },
  {
   "cell_type": "code",
   "execution_count": 3,
   "id": "26b12989",
   "metadata": {},
   "outputs": [
    {
     "name": "stdout",
     "output_type": "stream",
     "text": [
      "('1', '2', '3', '4', '5', '6', '7', '8', '9', '10')\n"
     ]
    }
   ],
   "source": [
    "numbers=[1,2,3,4,5,6,7,8,9,10]\n",
    "\n",
    "string_tuple=tuple(map(lambda x: str(x),numbers))\n",
    "\n",
    "print(string_tuple)"
   ]
  },
  {
   "cell_type": "markdown",
   "id": "4e6c93e7",
   "metadata": {},
   "source": [
    "Q4"
   ]
  },
  {
   "cell_type": "code",
   "execution_count": 4,
   "id": "0b4b4197",
   "metadata": {},
   "outputs": [
    {
     "name": "stdout",
     "output_type": "stream",
     "text": [
      "product: 15511210043330985984000000\n"
     ]
    }
   ],
   "source": [
    "from functools import reduce\n",
    "\n",
    "numbers=list(range(1,26))\n",
    "product =reduce(lambda x,y:x*y,numbers)\n",
    "print(\"product:\",product)"
   ]
  },
  {
   "cell_type": "markdown",
   "id": "50a979db",
   "metadata": {},
   "source": [
    "Q5"
   ]
  },
  {
   "cell_type": "code",
   "execution_count": 5,
   "id": "99f7401d",
   "metadata": {},
   "outputs": [
    {
     "name": "stdout",
     "output_type": "stream",
     "text": [
      "[6, 60, 90, 120]\n"
     ]
    }
   ],
   "source": [
    "numbers=[2,3,6,9,27,60,90,120,55,46]\n",
    "\n",
    "filtered_nos=list(filter(lambda x: x %2 ==0 and x %3==0,numbers))\n",
    "\n",
    "print(filtered_nos)"
   ]
  },
  {
   "cell_type": "markdown",
   "id": "1c77a796",
   "metadata": {},
   "source": [
    "Q6"
   ]
  },
  {
   "cell_type": "code",
   "execution_count": 6,
   "id": "5ccbc21f",
   "metadata": {},
   "outputs": [
    {
     "name": "stdout",
     "output_type": "stream",
     "text": [
      "['php', 'aba', 'radar', 'level']\n"
     ]
    }
   ],
   "source": [
    "strs=['python','php','aba','radar','level']\n",
    "\n",
    "palindrome=list(filter(lambda x: x== x[::-1],strs))\n",
    "\n",
    "print(palindrome)"
   ]
  },
  {
   "cell_type": "code",
   "execution_count": null,
   "id": "c234f98b",
   "metadata": {},
   "outputs": [],
   "source": []
  }
 ],
 "metadata": {
  "kernelspec": {
   "display_name": "Python 3 (ipykernel)",
   "language": "python",
   "name": "python3"
  },
  "language_info": {
   "codemirror_mode": {
    "name": "ipython",
    "version": 3
   },
   "file_extension": ".py",
   "mimetype": "text/x-python",
   "name": "python",
   "nbconvert_exporter": "python",
   "pygments_lexer": "ipython3",
   "version": "3.11.4"
  }
 },
 "nbformat": 4,
 "nbformat_minor": 5
}
