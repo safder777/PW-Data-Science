{
 "cells": [
  {
   "cell_type": "markdown",
   "id": "f06b0408",
   "metadata": {},
   "source": [
    "## Assignment 4"
   ]
  },
  {
   "cell_type": "markdown",
   "id": "6804b4f3",
   "metadata": {},
   "source": [
    "### Q1"
   ]
  },
  {
   "cell_type": "markdown",
   "id": "3b8b4cb0",
   "metadata": {},
   "source": [
    "In object-oriented programming (OOP), \"class\" and \"object\" are fundamental concepts that are used to model and organize code. OOP is a programming paradigm that focuses on designing software by organizing data and behavior into reusable and self-contained units called objects. Let's break down the concepts of class and object in OOP:\n",
    "\n",
    "1. Class:\n",
    "   - A class is a blueprint or template for creating objects. It defines the structure and behavior of objects of a particular type. In other words, a class is like a mold for creating objects of a specific kind.\n",
    "   - It serves as a model that specifies what data attributes (properties) an object of the class will have and what operations (methods) can be performed on those attributes.\n",
    "   - Classes are user-defined data types, and they encapsulate both data (attributes) and the methods (functions) that operate on that data.\n",
    "   - Classes are typically defined using a class keyword in most OOP programming languages. For example, in Python:\n",
    "   \n",
    "\n",
    "\n",
    "2. Object:\n",
    "   - An object is an instance of a class. It is a concrete, real-world entity that is created based on the class's blueprint. You can think of an object as a variable of the class type, with specific values for its attributes.\n",
    "   - Objects have their own unique data and can execute the methods defined by the class to perform operations on that data.\n",
    "   - Each object created from a class can have different attribute values, but they share the same set of methods defined by the class.\n",
    "   \n",
    "\n",
    "\n",
    "\n",
    "In summary, a \"class\" defines a blueprint for creating objects, specifying their attributes and methods, while an \"object\" is an instance of a class, representing a real-world entity with specific attribute values and the ability to perform actions defined by the class. OOP promotes code organization, reusability, and the modeling of complex systems in a more intuitive and modular manner."
   ]
  },
  {
   "cell_type": "code",
   "execution_count": 8,
   "id": "bc1759f8",
   "metadata": {},
   "outputs": [],
   "source": [
    "# Exapmple of class\n",
    "\n",
    "class a:\n",
    "    def __init__(me,name, age):\n",
    "        me.name=name\n",
    "        me.age=age\n",
    "        \n",
    "    def introduction(me):\n",
    "        print(f\" My name is {me.name}, and Im {me.age} years old\")"
   ]
  },
  {
   "cell_type": "code",
   "execution_count": 11,
   "id": "2007819d",
   "metadata": {},
   "outputs": [
    {
     "name": "stdout",
     "output_type": "stream",
     "text": [
      " My name is John, and Im 29 years old\n",
      " My name is Ahmad, and Im 35 years old\n"
     ]
    }
   ],
   "source": [
    "# example of object\n",
    "\n",
    "person1=a(\"John\",29)\n",
    "person2=a(\"Ahmad\",35)\n",
    "\n",
    "person1.introduction()\n",
    "person2.introduction()"
   ]
  },
  {
   "cell_type": "markdown",
   "id": "91e4fa4a",
   "metadata": {},
   "source": [
    "### Q2"
   ]
  },
  {
   "cell_type": "markdown",
   "id": "6290ecbd",
   "metadata": {},
   "source": [
    "The four pillars of object-oriented programming (OOP) are the core concepts and principles that define the foundation of OOP and guide its design and implementation. These pillars are:\n",
    "\n",
    "1. Encapsulation:\n",
    "   - Encapsulation is the concept of bundling data (attributes) and the methods (functions) that operate on that data into a single unit, called a class.\n",
    "   - It restricts direct access to an object's data and allows access only through well-defined interfaces (public methods).\n",
    "   - Encapsulation helps in data hiding, making it more secure and maintaining the integrity of the object's state.\n",
    "\n",
    "2. Inheritance:\n",
    "   - Inheritance is a mechanism that allows one class (the subclass or derived class) to inherit the attributes and methods of another class (the superclass or base class).\n",
    "   - It promotes code reuse, as a subclass can reuse and extend the behavior of a superclass, reducing redundancy and promoting a hierarchical organization of classes.\n",
    "   - Inheritance supports the \"is-a\" relationship, where a subclass is a specialized version of its superclass.\n",
    "\n",
    "3. Polymorphism:\n",
    "   - Polymorphism means \"many forms\" and is the ability of different objects to respond to the same message or method call in a way that is appropriate for their individual types.\n",
    "   - Polymorphism allows objects of different classes to be treated as objects of a common superclass, making the code more flexible and extensible.\n",
    "   - It is often achieved through method overriding, where a subclass provides its own implementation of a method defined in the superclass.\n",
    "\n",
    "4. Abstraction:\n",
    "   - Abstraction is the process of simplifying complex reality by modeling classes based on their essential characteristics and behavior while hiding irrelevant details.\n",
    "   - It provides a high-level view of objects, focusing on what an object does rather than how it does it.\n",
    "   - Abstraction allows you to define and work with abstract data types (classes) that serve as templates for creating concrete objects.\n",
    "\n",
    "These four pillars work together to provide a framework for designing and structuring object-oriented systems. They promote modularity, maintainability, and flexibility in software development and are key to the success of OOP in building complex and scalable applications."
   ]
  },
  {
   "cell_type": "markdown",
   "id": "c18e65ce",
   "metadata": {},
   "source": [
    "### Q3"
   ]
  },
  {
   "cell_type": "markdown",
   "id": "4178b41c",
   "metadata": {},
   "source": [
    "The __init__() function, also known as the constructor method, is a special method in object-oriented programming used in classes to initialize object instances. It is called automatically when an object of a class is created. The primary purpose of the __init__() method is to set initial values for an object's attributes and perform any other necessary setup when an object is instantiated."
   ]
  },
  {
   "cell_type": "code",
   "execution_count": 13,
   "id": "9f081d45",
   "metadata": {},
   "outputs": [
    {
     "name": "stdout",
     "output_type": "stream",
     "text": [
      "Alice\n",
      "30\n",
      "My name is Alice, and I am 30 years old.\n"
     ]
    }
   ],
   "source": [
    "class Person:\n",
    "    def __init__(self, name, age):\n",
    "        self.name = name\n",
    "        self.age = age\n",
    "        self.is_alive = True  # Setting a default attribute\n",
    "\n",
    "    def introduce(self):\n",
    "        print(f\"My name is {self.name}, and I am {self.age} years old.\")\n",
    "        \n",
    "alice = Person(\"Alice\", 30)\n",
    "\n",
    "# Accessing attributes and methods of the object\n",
    "print(alice.name)  # Output: \"Alice\"\n",
    "print(alice.age)   # Output: 30\n",
    "alice.introduce()"
   ]
  },
  {
   "cell_type": "markdown",
   "id": "dc974b8c",
   "metadata": {},
   "source": [
    "### Q4"
   ]
  },
  {
   "cell_type": "markdown",
   "id": "e01261a0",
   "metadata": {},
   "source": [
    "In object-oriented programming (OOP), self is a convention used in many programming languages (such as Python, Java, and others) to refer to the current instance of a class. It is a reference to the object itself. The use of self is important for several reasons:\n",
    "\n",
    "Accessing Instance Variables: self allows you to access and modify instance variables (attributes) within a class. Instance variables store data that is unique to each object created from the class. By using self, you can differentiate between the instance variables of different objects.\n",
    "\n",
    "Invoking Methods: You use self to call methods defined within the class on the current object. This allows each object to execute its methods independently, operating on its own data.\n",
    "\n",
    "Identifying the Current Object: It helps distinguish which object you are working with when there are multiple instances of a class. By referencing self, you make it clear that you are manipulating the attributes and methods of the object to which self refers.\n",
    "\n"
   ]
  },
  {
   "cell_type": "markdown",
   "id": "e1504222",
   "metadata": {},
   "source": [
    "### Q5"
   ]
  },
  {
   "cell_type": "markdown",
   "id": "b8622684",
   "metadata": {},
   "source": [
    "Inheritance is one of the core principles in object-oriented programming (OOP) that allows a new class (the subclass or derived class) to inherit properties and behaviors from an existing class (the superclass or base class). Inheritance promotes code reuse and the creation of a hierarchy of classes where specialized classes can inherit and extend the attributes and methods of more general classes. There are several types of inheritance, including single, multiple, multilevel, hierarchical, and hybrid. Here are examples for each type:\n",
    "\n",
    "1. **Single Inheritance**:\n",
    "   - Single inheritance occurs when a class inherits from only one superclass.\n",
    "   \n",
    "   Example:\n",
    "   ```python\n",
    "   class Animal:\n",
    "       def speak(self):\n",
    "           pass\n",
    "\n",
    "   class Dog(Animal):\n",
    "       def speak(self):\n",
    "           return \"Woof!\"\n",
    "\n",
    "   dog = Dog()\n",
    "   print(dog.speak())  # Output: \"Woof!\"\n",
    "   ```\n",
    "\n",
    "2. **Multiple Inheritance**:\n",
    "   - Multiple inheritance happens when a class inherits from more than one superclass. It allows a class to inherit attributes and methods from multiple parent classes.\n",
    "\n",
    "   Example:\n",
    "   ```python\n",
    "   class A:\n",
    "       def method_A(self):\n",
    "           return \"Method A from class A\"\n",
    "\n",
    "   class B:\n",
    "       def method_B(self):\n",
    "           return \"Method B from class B\"\n",
    "\n",
    "   class C(A, B):\n",
    "       pass\n",
    "\n",
    "   c = C()\n",
    "   print(c.method_A())  # Output: \"Method A from class A\"\n",
    "   print(c.method_B())  # Output: \"Method B from class B\"\n",
    "   ```\n",
    "\n",
    "3. **Multilevel Inheritance**:\n",
    "   - Multilevel inheritance occurs when a class inherits from a subclass, creating a chain of inheritance.\n",
    "\n",
    "   Example:\n",
    "   ```python\n",
    "   class Grandparent:\n",
    "       def grandparent_method(self):\n",
    "           return \"Method from Grandparent class\"\n",
    "\n",
    "   class Parent(Grandparent):\n",
    "       def parent_method(self):\n",
    "           return \"Method from Parent class\"\n",
    "\n",
    "   class Child(Parent):\n",
    "       def child_method(self):\n",
    "           return \"Method from Child class\"\n",
    "\n",
    "   child = Child()\n",
    "   print(child.grandparent_method())  # Output: \"Method from Grandparent class\"\n",
    "   print(child.parent_method())      # Output: \"Method from Parent class\"\n",
    "   print(child.child_method())       # Output: \"Method from Child class\"\n",
    "   ```\n",
    "\n",
    "4. **Hierarchical Inheritance**:\n",
    "   - Hierarchical inheritance occurs when multiple classes inherit from a single superclass. They share a common parent class.\n",
    "\n",
    "   Example:\n",
    "   ```python\n",
    "   class Shape:\n",
    "       def area(self):\n",
    "           pass\n",
    "\n",
    "   class Circle(Shape):\n",
    "       def area(self, radius):\n",
    "           return 3.14 * radius ** 2\n",
    "\n",
    "   class Square(Shape):\n",
    "       def area(self, side_length):\n",
    "           return side_length ** 2\n",
    "\n",
    "   circle = Circle()\n",
    "   square = Square()\n",
    "   print(circle.area(5))  # Output: 78.5\n",
    "   print(square.area(4))  # Output: 16\n",
    "   ```\n",
    "\n",
    "5. **Hybrid Inheritance**:\n",
    "   - Hybrid inheritance is a combination of different types of inheritance in a single program. It can involve multiple, multilevel, and hierarchical inheritance in the same program.\n",
    "\n",
    "   Example:\n",
    "   ```python\n",
    "   class A:\n",
    "       def method_A(self):\n",
    "           return \"Method A from class A\"\n",
    "\n",
    "   class B(A):\n",
    "       def method_B(self):\n",
    "           return \"Method B from class B\"\n",
    "\n",
    "   class C(A):\n",
    "       def method_C(self):\n",
    "           return \"Method C from class C\"\n",
    "\n",
    "   class D(B, C):\n",
    "       def method_D(self):\n",
    "           return \"Method D from class D\"\n",
    "\n",
    "   d = D()\n",
    "   print(d.method_A())  # Output: \"Method A from class A\"\n",
    "   print(d.method_B())  # Output: \"Method B from class B\"\n",
    "   print(d.method_C())  # Output: \"Method C from class C\"\n",
    "   print(d.method_D())  # Output: \"Method D from class D\"\n",
    "   ```\n",
    "\n",
    "These examples illustrate various types of inheritance, showcasing how classes can inherit attributes and methods from other classes, creating a hierarchical structure of objects with shared functionality."
   ]
  },
  {
   "cell_type": "code",
   "execution_count": null,
   "id": "ca6776ac",
   "metadata": {},
   "outputs": [],
   "source": []
  }
 ],
 "metadata": {
  "kernelspec": {
   "display_name": "Python 3 (ipykernel)",
   "language": "python",
   "name": "python3"
  },
  "language_info": {
   "codemirror_mode": {
    "name": "ipython",
    "version": 3
   },
   "file_extension": ".py",
   "mimetype": "text/x-python",
   "name": "python",
   "nbconvert_exporter": "python",
   "pygments_lexer": "ipython3",
   "version": "3.11.4"
  }
 },
 "nbformat": 4,
 "nbformat_minor": 5
}
