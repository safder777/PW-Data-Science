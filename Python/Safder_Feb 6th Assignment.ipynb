{
 "cells": [
  {
   "cell_type": "markdown",
   "id": "b20b3b47",
   "metadata": {},
   "source": [
    "## Safder Shakil\n",
    "\n",
    "### 6th Feb Assignment\n",
    "\n",
    "### Q1\n",
    "\n"
   ]
  },
  {
   "cell_type": "code",
   "execution_count": 3,
   "id": "65f93c22",
   "metadata": {},
   "outputs": [
    {
     "name": "stdout",
     "output_type": "stream",
     "text": [
      "Product of all numbers: 4134711838987085478833841242112000\n"
     ]
    }
   ],
   "source": [
    "from collections.abc import Iterable\n",
    "from functools import reduce\n",
    "import operator\n",
    "\n",
    "def extract_numeric_values(item):\n",
    "    if isinstance(item, (int, float)) and not isinstance(item, bool):\n",
    "        return [item]\n",
    "    elif isinstance(item, dict):\n",
    "        return extract_numeric_values(list(item.keys()) + list(item.values()))\n",
    "    elif isinstance(item, Iterable) and not isinstance(item, (str, bytes)):\n",
    "        return sum((extract_numeric_values(subitem) for subitem in item), [])\n",
    "    else:\n",
    "        return []\n",
    "\n",
    "def product_of_numbers(lst):\n",
    "    flattened_list = extract_numeric_values(lst)\n",
    "    if not flattened_list:  # if the list is empty, return 0\n",
    "        return 0\n",
    "    product = reduce(operator.mul, flattened_list, 1)\n",
    "    return product\n",
    "\n",
    "# Example usage:\n",
    "list1 = [1, 2, 3, 4, [44, 55, 66, True], False, (34, 56, 78, 89, 34), {1, 2, 3}, {1: 34, \"key2\": [55, 67, 78, 89], 4: (45, 22, 61, 34)}, [56, 'data science'], 'Machine Learning']\n",
    "result = product_of_numbers(list1)\n",
    "print(\"Product of all numbers:\", result)\n"
   ]
  },
  {
   "cell_type": "markdown",
   "id": "e5b7edea",
   "metadata": {},
   "source": [
    "### Q2"
   ]
  },
  {
   "cell_type": "code",
   "execution_count": 5,
   "id": "80984a80",
   "metadata": {},
   "outputs": [
    {
     "name": "stdout",
     "output_type": "stream",
     "text": [
      "Encrypted sentence: r$dzmg$gl$yvxlnv$z$wzgz$hxrvmgrhg.\n"
     ]
    }
   ],
   "source": [
    "def encrypt_message(message):\n",
    "    # Define the mapping for letters\n",
    "    alphabet = 'abcdefghijklmnopqrstuvwxyz'\n",
    "    reverse_alphabet = alphabet[::-1]  # Reversed alphabet: 'zyxwvutsrqponmlkjihgfedcba'\n",
    "    letter_mapping = {letter: reverse_alphabet[i] for i, letter in enumerate(alphabet)}\n",
    "    \n",
    "    # Encrypt the message\n",
    "    encrypted_message = []\n",
    "    for char in message.lower():\n",
    "        if char in letter_mapping:\n",
    "            encrypted_message.append(letter_mapping[char])\n",
    "        elif char == ' ':\n",
    "            encrypted_message.append('$')\n",
    "        else:\n",
    "            encrypted_message.append(char)\n",
    "    \n",
    "    return ''.join(encrypted_message)\n",
    "\n",
    "# Input sentence\n",
    "input_sentence = \"I want to become a Data Scientist.\"\n",
    "\n",
    "# Encrypt the sentence\n",
    "encrypted_sentence = encrypt_message(input_sentence)\n",
    "print(\"Encrypted sentence:\", encrypted_sentence)\n"
   ]
  },
  {
   "cell_type": "code",
   "execution_count": null,
   "id": "40b0992a",
   "metadata": {},
   "outputs": [],
   "source": []
  }
 ],
 "metadata": {
  "kernelspec": {
   "display_name": "Python 3 (ipykernel)",
   "language": "python",
   "name": "python3"
  },
  "language_info": {
   "codemirror_mode": {
    "name": "ipython",
    "version": 3
   },
   "file_extension": ".py",
   "mimetype": "text/x-python",
   "name": "python",
   "nbconvert_exporter": "python",
   "pygments_lexer": "ipython3",
   "version": "3.11.4"
  }
 },
 "nbformat": 4,
 "nbformat_minor": 5
}
