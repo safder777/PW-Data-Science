{
 "cells": [
  {
   "cell_type": "markdown",
   "id": "bcac57fd",
   "metadata": {},
   "source": [
    "Q1. what is exception in python ? what is the dfference between syntax error and exception"
   ]
  },
  {
   "cell_type": "markdown",
   "id": "2c1537e4",
   "metadata": {},
   "source": [
    "In Python, an exception is an event that occurs during the execution of a program and disrupts the normal flow of the program's instructions. When a Python script encounters something unexpected that it cannot handle, it raises an exception. This could be anything from attempting to divide by zero, to trying to access a file that doesn't exist.\n",
    "\n",
    "Syntax Error vs. Exception\n",
    "\n",
    "Syntax Error:\n",
    "\n",
    "- Definition: A syntax error occurs when the Python interpreter encounters incorrect syntax in the code. The code fails to parse and cannot be executed.\n",
    "\n",
    "- When It Occurs: During the parsing (compilation) stage, before the code is even executed.\n",
    "Examples:\n",
    "\n",
    "Missing a colon after a for or if statement.\n",
    "Unbalanced parentheses or brackets.\n",
    "Incorrect indentation.\n",
    "Handling: Cannot be handled with a try-except block because the code doesn't execute if there's a syntax error.\n"
   ]
  },
  {
   "cell_type": "markdown",
   "id": "8a180e9d",
   "metadata": {},
   "source": [
    "- exception:\n",
    "\n",
    "Definition: An exception occurs when an error arises during the execution of code that is syntactically correct.\n",
    "\n",
    "When It Occurs: During the runtime, after the code has been parsed successfully.\n",
    "\n",
    "Examples:\n",
    "\n",
    "Division by zero (ZeroDivisionError).\n",
    "Trying to access an undefined variable (NameError).\n",
    "Attempting to open a file that does not exist (FileNotFoundError).\n",
    "Handling: Can be caught and handled using try-except blocks."
   ]
  },
  {
   "cell_type": "markdown",
   "id": "272b1db3",
   "metadata": {},
   "source": [
    "Q2. what happens when an exception is not handled ? explain with an example"
   ]
  },
  {
   "cell_type": "markdown",
   "id": "e7946f9c",
   "metadata": {},
   "source": [
    "When an exception is not handled in Python, it causes the program to terminate immediately and an error message (often called a traceback) is displayed. The traceback provides information about the type of exception that occurred, the line of code where the exception was raised, and the sequence of function calls that led to the exception."
   ]
  },
  {
   "cell_type": "code",
   "execution_count": 1,
   "id": "7b188eec",
   "metadata": {},
   "outputs": [
    {
     "ename": "ZeroDivisionError",
     "evalue": "division by zero",
     "output_type": "error",
     "traceback": [
      "\u001b[1;31m---------------------------------------------------------------------------\u001b[0m",
      "\u001b[1;31mZeroDivisionError\u001b[0m                         Traceback (most recent call last)",
      "Cell \u001b[1;32mIn[1], line 4\u001b[0m\n\u001b[0;32m      1\u001b[0m \u001b[38;5;28;01mdef\u001b[39;00m \u001b[38;5;21mdivide_numbers\u001b[39m(a, b):\n\u001b[0;32m      2\u001b[0m     \u001b[38;5;28;01mreturn\u001b[39;00m a \u001b[38;5;241m/\u001b[39m b\n\u001b[1;32m----> 4\u001b[0m result \u001b[38;5;241m=\u001b[39m divide_numbers(\u001b[38;5;241m10\u001b[39m, \u001b[38;5;241m0\u001b[39m)\n\u001b[0;32m      5\u001b[0m \u001b[38;5;28mprint\u001b[39m(\u001b[38;5;124m\"\u001b[39m\u001b[38;5;124mThe result is:\u001b[39m\u001b[38;5;124m\"\u001b[39m, result)\n",
      "Cell \u001b[1;32mIn[1], line 2\u001b[0m, in \u001b[0;36mdivide_numbers\u001b[1;34m(a, b)\u001b[0m\n\u001b[0;32m      1\u001b[0m \u001b[38;5;28;01mdef\u001b[39;00m \u001b[38;5;21mdivide_numbers\u001b[39m(a, b):\n\u001b[1;32m----> 2\u001b[0m     \u001b[38;5;28;01mreturn\u001b[39;00m a \u001b[38;5;241m/\u001b[39m b\n",
      "\u001b[1;31mZeroDivisionError\u001b[0m: division by zero"
     ]
    }
   ],
   "source": [
    "def divide_numbers(a, b):\n",
    "    return a / b\n",
    "\n",
    "result = divide_numbers(10, 0)\n",
    "print(\"The result is:\", result)\n"
   ]
  },
  {
   "cell_type": "markdown",
   "id": "d22db894",
   "metadata": {},
   "source": [
    "Q3.Which python statements are used to handle exceptions ? explain with example."
   ]
  },
  {
   "cell_type": "markdown",
   "id": "e2477fd9",
   "metadata": {},
   "source": [
    "- try: Contains code that might raise an exception.\n",
    "- except: Contains code that runs if an exception occurs.\n",
    "- else: Contains code that runs if no exceptions occur.\n",
    "- finally: Contains code that runs whether an exception occurs or not, usually for cleanup tasks.\n",
    "\n"
   ]
  },
  {
   "cell_type": "code",
   "execution_count": 2,
   "id": "bee1aff5",
   "metadata": {},
   "outputs": [
    {
     "name": "stdout",
     "output_type": "stream",
     "text": [
      "The result is: 5.0\n",
      "This runs no matter what.\n"
     ]
    }
   ],
   "source": [
    "try:\n",
    "    result = 10 / 2\n",
    "except ZeroDivisionError:\n",
    "    print(\"You cannot divide by zero!\")\n",
    "else:\n",
    "    print(\"The result is:\", result)\n",
    "finally:\n",
    "    print(\"This runs no matter what.\")"
   ]
  },
  {
   "cell_type": "markdown",
   "id": "04c7f7b0",
   "metadata": {},
   "source": [
    "Q4.Expalin with an example\n",
    "\n",
    "1.try and else\n",
    "2.finally\n",
    "3.raise"
   ]
  },
  {
   "cell_type": "markdown",
   "id": "91b2963a",
   "metadata": {},
   "source": [
    "1. try and else\n",
    "The try block contains code that may raise an exception. The else block contains code that should run only if no exceptions occur in the try block."
   ]
  },
  {
   "cell_type": "code",
   "execution_count": 3,
   "id": "bcf8dc05",
   "metadata": {},
   "outputs": [
    {
     "name": "stdout",
     "output_type": "stream",
     "text": [
      "Division successful! The result is: 5.0\n",
      "You cannot divide by zero!\n"
     ]
    }
   ],
   "source": [
    "def divide_numbers(a, b):\n",
    "    try:\n",
    "        result = a / b\n",
    "    except ZeroDivisionError:\n",
    "        print(\"You cannot divide by zero!\")\n",
    "    else:\n",
    "        print(\"Division successful! The result is:\", result)\n",
    "\n",
    "divide_numbers(10, 2)\n",
    "divide_numbers(10, 0)\n"
   ]
  },
  {
   "cell_type": "markdown",
   "id": "516df8b5",
   "metadata": {},
   "source": [
    "2. finally\n",
    "The finally block is used to execute code that should run no matter what, whether an exception occurs or not. This is useful for cleanup tasks like closing files or releasing resources."
   ]
  },
  {
   "cell_type": "code",
   "execution_count": 4,
   "id": "32a9a9dd",
   "metadata": {},
   "outputs": [
    {
     "name": "stdout",
     "output_type": "stream",
     "text": [
      "File content: Line 1\n",
      "Line 2\n",
      "Line 3\n",
      "Closing the file.\n",
      "Error: The file 'non_existent_file.txt' was not found.\n",
      "Closing the file.\n"
     ]
    },
    {
     "ename": "UnboundLocalError",
     "evalue": "cannot access local variable 'file' where it is not associated with a value",
     "output_type": "error",
     "traceback": [
      "\u001b[1;31m---------------------------------------------------------------------------\u001b[0m",
      "\u001b[1;31mUnboundLocalError\u001b[0m                         Traceback (most recent call last)",
      "Cell \u001b[1;32mIn[4], line 16\u001b[0m\n\u001b[0;32m     13\u001b[0m open_file(\u001b[38;5;124m'\u001b[39m\u001b[38;5;124msample.txt\u001b[39m\u001b[38;5;124m'\u001b[39m)\n\u001b[0;32m     15\u001b[0m \u001b[38;5;66;03m# This will fail and raise an exception, but finally will still execute\u001b[39;00m\n\u001b[1;32m---> 16\u001b[0m open_file(\u001b[38;5;124m'\u001b[39m\u001b[38;5;124mnon_existent_file.txt\u001b[39m\u001b[38;5;124m'\u001b[39m)\n",
      "Cell \u001b[1;32mIn[4], line 10\u001b[0m, in \u001b[0;36mopen_file\u001b[1;34m(filename)\u001b[0m\n\u001b[0;32m      8\u001b[0m \u001b[38;5;28;01mfinally\u001b[39;00m:\n\u001b[0;32m      9\u001b[0m     \u001b[38;5;28mprint\u001b[39m(\u001b[38;5;124m\"\u001b[39m\u001b[38;5;124mClosing the file.\u001b[39m\u001b[38;5;124m\"\u001b[39m)\n\u001b[1;32m---> 10\u001b[0m     file\u001b[38;5;241m.\u001b[39mclose()\n",
      "\u001b[1;31mUnboundLocalError\u001b[0m: cannot access local variable 'file' where it is not associated with a value"
     ]
    }
   ],
   "source": [
    "def open_file(filename):\n",
    "    try:\n",
    "        file = open(filename, 'r')\n",
    "        content = file.read()\n",
    "        print(\"File content:\", content)\n",
    "    except FileNotFoundError:\n",
    "        print(f\"Error: The file '{filename}' was not found.\")\n",
    "    finally:\n",
    "        print(\"Closing the file.\")\n",
    "        file.close()\n",
    "\n",
    "# This will succeed if 'sample.txt' exists\n",
    "open_file('sample.txt')\n",
    "\n",
    "# This will fail and raise an exception, but finally will still execute\n",
    "open_file('non_existent_file.txt')\n"
   ]
  },
  {
   "cell_type": "markdown",
   "id": "63926869",
   "metadata": {},
   "source": [
    "3. raise\n",
    "The raise statement is used to manually trigger an exception in Python. You can use it to throw an exception if a certain condition occurs."
   ]
  },
  {
   "cell_type": "code",
   "execution_count": 5,
   "id": "d1764bcd",
   "metadata": {},
   "outputs": [
    {
     "name": "stdout",
     "output_type": "stream",
     "text": [
      "Valid age: 25\n",
      "Error: Age cannot be negative!\n"
     ]
    }
   ],
   "source": [
    "def check_age(age):\n",
    "    if age < 0:\n",
    "        raise ValueError(\"Age cannot be negative!\")\n",
    "    else:\n",
    "        print(f\"Valid age: {age}\")\n",
    "\n",
    "try:\n",
    "    check_age(25)\n",
    "    check_age(-5)  # This will raise an exception\n",
    "except ValueError as e:\n",
    "    print(f\"Error: {e}\")\n"
   ]
  },
  {
   "cell_type": "markdown",
   "id": "b13f99e1",
   "metadata": {},
   "source": [
    "Q5.What are custom exceptions in python ? why do we need them ? explain with example"
   ]
  },
  {
   "cell_type": "markdown",
   "id": "a791aa18",
   "metadata": {},
   "source": [
    "What Are Custom Exceptions in Python?\n",
    "Custom exceptions in Python are user-defined exceptions that extend the built-in Exception class. They are used to create specific error types for situations that are not covered by Python's standard exceptions. By creating custom exceptions, you can make your code more descriptive and handle errors more effectively in the context of your application.\n",
    "\n",
    "Why Do We Need Custom Exceptions?\n",
    "Clarity: Custom exceptions make your code more readable by clearly indicating the type of error that occurred, making it easier to debug and understand.\n",
    "\n",
    "Specificity: They allow you to differentiate between different error conditions in your code, enabling more precise error handling.\n",
    "\n",
    "Code Organization: Custom exceptions help you organize your error-handling logic by creating a hierarchy of exceptions that reflect the structure of your application.\n",
    "\n",
    "How to Create and Use Custom Exceptions\n",
    "Step 1: Define a Custom Exception\n",
    "To create a custom exception, you define a new class that inherits from Python's built-in Exception class."
   ]
  },
  {
   "cell_type": "markdown",
   "id": "d4394c5b",
   "metadata": {},
   "source": [
    "- Custom exceptions in Python allow you to define specific error types that make your code more readable, organized, and easier to debug. By extending the built-in Exception class, you can create exceptions tailored to the needs of your application, allowing for more precise and meaningful error handling."
   ]
  },
  {
   "cell_type": "code",
   "execution_count": 7,
   "id": "5e7a172b",
   "metadata": {},
   "outputs": [
    {
     "name": "stdout",
     "output_type": "stream",
     "text": [
      "Error: Number cannot be negative. You provided: -9\n"
     ]
    }
   ],
   "source": [
    "# Step 1: Define a Custom Exception\n",
    "class NegativeNumberError(Exception):\n",
    "    \"\"\"Exception raised for errors in the input if the number is negative.\"\"\"\n",
    "    \n",
    "    def __init__(self, number, message=\"Number cannot be negative\"):\n",
    "        self.number = number\n",
    "        self.message = message\n",
    "        super().__init__(self.message)\n",
    "\n",
    "# Step 2: Use the Custom Exception in a Function\n",
    "def square_root(number):\n",
    "    if number < 0:\n",
    "        raise NegativeNumberError(number)\n",
    "    return number ** 0.5\n",
    "\n",
    "# Step 3: Handle the Custom Exception\n",
    "try:\n",
    "    result = square_root(-9)\n",
    "except NegativeNumberError as e:\n",
    "    print(f\"Error: {e.message}. You provided: {e.number}\")\n"
   ]
  },
  {
   "cell_type": "markdown",
   "id": "9c1779d3",
   "metadata": {},
   "source": [
    "Q6. create a custom exception class and use this class to handle an exception."
   ]
  },
  {
   "cell_type": "code",
   "execution_count": 8,
   "id": "84c9152d",
   "metadata": {},
   "outputs": [
    {
     "name": "stdout",
     "output_type": "stream",
     "text": [
      "Error: Age must be between 0 and 120. You provided: 150\n"
     ]
    }
   ],
   "source": [
    "# Step 1: Define a Custom Exception\n",
    "class InvalidAgeError(Exception):\n",
    "    \"\"\"Exception raised for invalid age input.\"\"\"\n",
    "    \n",
    "    def __init__(self, age, message=\"Age must be between 0 and 120\"):\n",
    "        self.age = age\n",
    "        self.message = message\n",
    "        super().__init__(self.message)\n",
    "\n",
    "# Step 2: Use the Custom Exception in a Function\n",
    "def validate_age(age):\n",
    "    if age < 0 or age > 120:\n",
    "        raise InvalidAgeError(age)\n",
    "    print(f\"Age {age} is valid.\")\n",
    "\n",
    "# Step 3: Handle the Custom Exception\n",
    "try:\n",
    "    validate_age(150)  # This will raise the InvalidAgeError\n",
    "except InvalidAgeError as e:\n",
    "    print(f\"Error: {e.message}. You provided: {e.age}\")\n"
   ]
  },
  {
   "cell_type": "code",
   "execution_count": null,
   "id": "ff6bbebd",
   "metadata": {},
   "outputs": [],
   "source": []
  }
 ],
 "metadata": {
  "kernelspec": {
   "display_name": "Python 3 (ipykernel)",
   "language": "python",
   "name": "python3"
  },
  "language_info": {
   "codemirror_mode": {
    "name": "ipython",
    "version": 3
   },
   "file_extension": ".py",
   "mimetype": "text/x-python",
   "name": "python",
   "nbconvert_exporter": "python",
   "pygments_lexer": "ipython3",
   "version": "3.11.4"
  }
 },
 "nbformat": 4,
 "nbformat_minor": 5
}
