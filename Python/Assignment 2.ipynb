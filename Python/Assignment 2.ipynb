{
 "cells": [
  {
   "cell_type": "markdown",
   "id": "c8144759",
   "metadata": {},
   "source": [
    "# Assignment 2"
   ]
  },
  {
   "cell_type": "markdown",
   "id": "895216e0",
   "metadata": {},
   "source": [
    "Q1"
   ]
  },
  {
   "cell_type": "code",
   "execution_count": 6,
   "id": "614945f5",
   "metadata": {},
   "outputs": [
    {
     "name": "stdout",
     "output_type": "stream",
     "text": [
      "[1, 3, 5, 7, 9, 11, 13, 15, 17, 19, 21, 23, 25]\n"
     ]
    }
   ],
   "source": [
    "# In Python, the keyword used to create a function is `def`. Here's a Python function that returns a list of odd numbers in the range of 1 to 25:'\n",
    "\n",
    "\n",
    "def find_odd_numbers():\n",
    "    odd_numbers = []\n",
    "    for number in range(1, 26):\n",
    "        if number % 2 != 0:\n",
    "            odd_numbers.append(number)\n",
    "    return odd_numbers\n",
    "\n",
    "\n",
    "\n",
    "\n",
    "result = find_odd_numbers()\n",
    "print(result)\n",
    "\n"
   ]
  },
  {
   "cell_type": "markdown",
   "id": "87036ead",
   "metadata": {},
   "source": [
    "Q2"
   ]
  },
  {
   "cell_type": "markdown",
   "id": "17c31ae4",
   "metadata": {},
   "source": [
    "* *args:\n",
    "\n",
    "It allows a function to accept an arbitrary number of positional arguments (non-keyword arguments).\n",
    "\n",
    "* *kwargs:\n",
    "\n",
    "It allows a function to accept an arbitrary number of keyword arguments (named arguments). "
   ]
  },
  {
   "cell_type": "code",
   "execution_count": 8,
   "id": "ceb78c2e",
   "metadata": {},
   "outputs": [
    {
     "name": "stdout",
     "output_type": "stream",
     "text": [
      "32\n"
     ]
    }
   ],
   "source": [
    "def sum_numbers(*args):\n",
    "    total = 0\n",
    "    for number in args:\n",
    "        total += number\n",
    "    return total\n",
    "\n",
    "result = sum_numbers(-2, 2, 3, 9, 20)\n",
    "print(result)  \n"
   ]
  },
  {
   "cell_type": "code",
   "execution_count": 10,
   "id": "366ed92b",
   "metadata": {},
   "outputs": [
    {
     "name": "stdout",
     "output_type": "stream",
     "text": [
      "name: PW\n",
      "age: 30\n",
      "city: BLR\n"
     ]
    }
   ],
   "source": [
    "def print_info(**kwargs):\n",
    "    for key, value in kwargs.items():\n",
    "        print(f\"{key}: {value}\")\n",
    "\n",
    "print_info(name=\"PW\", age=30, city=\"BLR\")\n"
   ]
  },
  {
   "cell_type": "markdown",
   "id": "417166de",
   "metadata": {},
   "source": [
    "Q3"
   ]
  },
  {
   "cell_type": "markdown",
   "id": "f549b7f6",
   "metadata": {},
   "source": [
    "* An iterator in Python is an object that allows you to traverse or loop through a sequence of elements, such as a list, tuple, or other iterable objects"
   ]
  },
  {
   "cell_type": "code",
   "execution_count": 11,
   "id": "e0e0568e",
   "metadata": {},
   "outputs": [
    {
     "name": "stdout",
     "output_type": "stream",
     "text": [
      "2\n",
      "4\n",
      "6\n",
      "8\n",
      "10\n"
     ]
    }
   ],
   "source": [
    "# Create an iterator from the list\n",
    "my_list = [2, 4, 6, 8, 10, 12, 14, 16, 18, 20]\n",
    "my_iterator = iter(my_list)\n",
    "\n",
    "# Use the iterator to print the first five elements\n",
    "for _ in range(5):\n",
    "    element = next(my_iterator)\n",
    "    print(element)\n"
   ]
  },
  {
   "cell_type": "markdown",
   "id": "2fef0e74",
   "metadata": {},
   "source": [
    "Q4\n"
   ]
  },
  {
   "cell_type": "markdown",
   "id": "0352d3f8",
   "metadata": {},
   "source": [
    "* A generator function in Python is a special type of function that allows you to create an iterator. It uses the yield keyword to yield values one at a time during iteration, instead of computing all the values and returning them at once. Generator functions are memory-efficient because they don't store all the values in memory, making them ideal for working with large sequences or infinite sequences."
   ]
  },
  {
   "cell_type": "code",
   "execution_count": 12,
   "id": "0ebf6657",
   "metadata": {},
   "outputs": [
    {
     "name": "stdout",
     "output_type": "stream",
     "text": [
      "0\n",
      "2\n",
      "4\n",
      "6\n",
      "8\n"
     ]
    }
   ],
   "source": [
    "def even_no_gen(limit):\n",
    "    n=0\n",
    "    while n< limit:\n",
    "        yield n\n",
    "        n+=2\n",
    "        \n",
    "limit =10\n",
    "even_gen=even_no_gen(limit)\n",
    "for number in even_gen:\n",
    "    print(number)"
   ]
  },
  {
   "cell_type": "markdown",
   "id": "be1742fe",
   "metadata": {},
   "source": [
    "Q5"
   ]
  },
  {
   "cell_type": "code",
   "execution_count": 17,
   "id": "40ac0e49",
   "metadata": {},
   "outputs": [
    {
     "name": "stdout",
     "output_type": "stream",
     "text": [
      "2 3 5 7 11 13 17 19 23 29 31 37 41 43 47 53 59 61 67 71 "
     ]
    }
   ],
   "source": [
    "def is_prime(number):\n",
    "    if number < 2:\n",
    "        return False\n",
    "    for i in range(2, int(number**0.5) + 1):\n",
    "        if number % i == 0:\n",
    "            return False\n",
    "    return True\n",
    "\n",
    "def prime_generator():\n",
    "    number = 2\n",
    "    while number < 1000:\n",
    "        if is_prime(number):\n",
    "            yield number\n",
    "        number += 1\n",
    "\n",
    "# Using the generator to print the first 20 prime numbers\n",
    "prime_gen = prime_generator()\n",
    "count = 0\n",
    "while count < 20:\n",
    "    prime = next(prime_gen)\n",
    "    print(prime, end=\" \")\n",
    "    count += 1\n"
   ]
  },
  {
   "cell_type": "markdown",
   "id": "29caccd5",
   "metadata": {},
   "source": [
    "Q6"
   ]
  },
  {
   "cell_type": "code",
   "execution_count": 16,
   "id": "e351f36b",
   "metadata": {},
   "outputs": [
    {
     "name": "stdout",
     "output_type": "stream",
     "text": [
      "2 3 5 7 11 13 17 19 23 29 31 37 41 43 47 53 59 61 67 71 "
     ]
    }
   ],
   "source": [
    "def is_prime(number):\n",
    "    if number < 2:\n",
    "        return False\n",
    "    for i in range(2, int(number**0.5) + 1):\n",
    "        if number % i == 0:\n",
    "            return False\n",
    "    return True\n",
    "\n",
    "def prime_generator():\n",
    "    number = 2\n",
    "    while number < 1000:\n",
    "        if is_prime(number):\n",
    "            yield number\n",
    "        number += 1\n",
    "\n",
    "# Using the generator to print the first 20 prime numbers\n",
    "prime_gen = prime_generator()\n",
    "count = 0\n",
    "while count < 20:\n",
    "    prime = next(prime_gen)\n",
    "    print(prime, end=\" \")\n",
    "    count += 1\n"
   ]
  },
  {
   "cell_type": "markdown",
   "id": "2c059e9e",
   "metadata": {},
   "source": [
    "Q7"
   ]
  },
  {
   "cell_type": "code",
   "execution_count": 18,
   "id": "c84ec9fd",
   "metadata": {},
   "outputs": [
    {
     "name": "stdout",
     "output_type": "stream",
     "text": [
      "['p', 'w', 's', 'k', 'i', 'l', 'l', 's']\n"
     ]
    }
   ],
   "source": [
    "input_string = 'pwskills'\n",
    "result = [char for char in input_string]\n",
    "print(result)\n"
   ]
  },
  {
   "cell_type": "markdown",
   "id": "8dbf78cc",
   "metadata": {},
   "source": [
    "Q8"
   ]
  },
  {
   "cell_type": "code",
   "execution_count": 19,
   "id": "6c97becd",
   "metadata": {},
   "outputs": [
    {
     "name": "stdout",
     "output_type": "stream",
     "text": [
      "Enter a number: 3003\n",
      "3003 is a palindrome.\n"
     ]
    }
   ],
   "source": [
    "def is_palindrome(number):\n",
    "    original_number = number\n",
    "    reversed_number = 0\n",
    "\n",
    "    while number > 0:\n",
    "        remainder = number % 10\n",
    "        reversed_number = reversed_number * 10 + remainder\n",
    "        number //= 10\n",
    "\n",
    "    return original_number == reversed_number\n",
    "\n",
    "# Input from the user\n",
    "num = int(input(\"Enter a number: \"))\n",
    "\n",
    "if is_palindrome(num):\n",
    "    print(f\"{num} is a palindrome.\")\n",
    "else:\n",
    "    print(f\"{num} is not a palindrome.\")\n"
   ]
  },
  {
   "cell_type": "markdown",
   "id": "547a0113",
   "metadata": {},
   "source": [
    "Q9"
   ]
  },
  {
   "cell_type": "code",
   "execution_count": 20,
   "id": "54c0787e",
   "metadata": {},
   "outputs": [
    {
     "name": "stdout",
     "output_type": "stream",
     "text": [
      "[1, 3, 5, 7, 9, 11, 13, 15, 17, 19, 21, 23, 25, 27, 29, 31, 33, 35, 37, 39, 41, 43, 45, 47, 49, 51, 53, 55, 57, 59, 61, 63, 65, 67, 69, 71, 73, 75, 77, 79, 81, 83, 85, 87, 89, 91, 93, 95, 97, 99]\n"
     ]
    }
   ],
   "source": [
    "# Create a list from 1 to 100\n",
    "numbers = [i for i in range(1, 101)]\n",
    "\n",
    "# Use a list comprehension to filter out the odd numbers\n",
    "odd_numbers = [number for number in numbers if number % 2 != 0]\n",
    "\n",
    "# Print the list of odd numbers\n",
    "print(odd_numbers)\n"
   ]
  },
  {
   "cell_type": "code",
   "execution_count": null,
   "id": "979668ec",
   "metadata": {},
   "outputs": [],
   "source": []
  }
 ],
 "metadata": {
  "kernelspec": {
   "display_name": "Python 3 (ipykernel)",
   "language": "python",
   "name": "python3"
  },
  "language_info": {
   "codemirror_mode": {
    "name": "ipython",
    "version": 3
   },
   "file_extension": ".py",
   "mimetype": "text/x-python",
   "name": "python",
   "nbconvert_exporter": "python",
   "pygments_lexer": "ipython3",
   "version": "3.11.4"
  }
 },
 "nbformat": 4,
 "nbformat_minor": 5
}
