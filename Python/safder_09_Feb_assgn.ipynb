{
 "cells": [
  {
   "cell_type": "markdown",
   "id": "cbdb3910",
   "metadata": {},
   "source": [
    "Q1, Create a vehicle class with an init method having instance variables as name_of_vehicle, max_speed\n",
    "and average_of_vehicle."
   ]
  },
  {
   "cell_type": "code",
   "execution_count": 1,
   "id": "52645919",
   "metadata": {},
   "outputs": [
    {
     "name": "stdout",
     "output_type": "stream",
     "text": [
      "Vehicle: Toyota Camry, Max Speed: 180 km/h, Average: 12.5 km/l\n"
     ]
    }
   ],
   "source": [
    "class Vehicle:\n",
    "    def __init__(self, name_of_vehicle, max_speed, average_of_vehicle):\n",
    "        self.name_of_vehicle = name_of_vehicle\n",
    "        self.max_speed = max_speed\n",
    "        self.average_of_vehicle = average_of_vehicle\n",
    "\n",
    "# Example usage:\n",
    "car = Vehicle(\"Toyota Camry\", 180, 12.5)\n",
    "print(f\"Vehicle: {car.name_of_vehicle}, Max Speed: {car.max_speed} km/h, Average: {car.average_of_vehicle} km/l\")\n"
   ]
  },
  {
   "cell_type": "markdown",
   "id": "84ac3416",
   "metadata": {},
   "source": [
    "Q2. Create a child class car from the vehicle class created in Que 1, which will inherit the vehicle class.\n",
    "Create a method named seating_capacity which takes capacity as an argument and returns the name of\n",
    "the vehicle and its seating capacity."
   ]
  },
  {
   "cell_type": "code",
   "execution_count": 4,
   "id": "1d63cce5",
   "metadata": {},
   "outputs": [
    {
     "name": "stdout",
     "output_type": "stream",
     "text": [
      "The Honda Civic has a seating capacity of 5.\n",
      "max speed of the car is  200\n"
     ]
    }
   ],
   "source": [
    "# Parent class\n",
    "class Vehicle:\n",
    "    def __init__(self, name_of_vehicle, max_speed, average_of_vehicle):\n",
    "        self.name_of_vehicle = name_of_vehicle\n",
    "        self.max_speed = max_speed\n",
    "        self.average_of_vehicle = average_of_vehicle\n",
    "\n",
    "# Child class\n",
    "class Car(Vehicle):\n",
    "    def seating_capacity(self, capacity):\n",
    "        return f\"The {self.name_of_vehicle} has a seating capacity of {capacity}.\"\n",
    "\n",
    "# Example usage:\n",
    "my_car = Car(\"Honda Civic\", 200, 15)\n",
    "print(my_car.seating_capacity(5))\n",
    "print(f'max speed of the car is ',my_car.max_speed)"
   ]
  },
  {
   "cell_type": "markdown",
   "id": "f26a3370",
   "metadata": {},
   "source": [
    "Q3. What is multiple inheritance? Write a python code to demonstrate multiple inheritance."
   ]
  },
  {
   "cell_type": "code",
   "execution_count": 5,
   "id": "97400e89",
   "metadata": {},
   "outputs": [
    {
     "name": "stdout",
     "output_type": "stream",
     "text": [
      "Car: Ford Mustang, Body type: Sedan, V8 engine started.\n"
     ]
    }
   ],
   "source": [
    "# Parent class 1\n",
    "class Engine:\n",
    "    def __init__(self, engine_type):\n",
    "        self.engine_type = engine_type\n",
    "\n",
    "    def start_engine(self):\n",
    "        return f\"{self.engine_type} engine started.\"\n",
    "\n",
    "# Parent class 2\n",
    "class Body:\n",
    "    def __init__(self, body_type):\n",
    "        self.body_type = body_type\n",
    "\n",
    "    def display_body(self):\n",
    "        return f\"Body type: {self.body_type}\"\n",
    "\n",
    "# Child class inheriting from both Engine and Body classes\n",
    "class Car(Engine, Body):\n",
    "    def __init__(self, engine_type, body_type, name_of_vehicle):\n",
    "        Engine.__init__(self, engine_type)\n",
    "        Body.__init__(self, body_type)\n",
    "        self.name_of_vehicle = name_of_vehicle\n",
    "\n",
    "    def display_car_details(self):\n",
    "        return f\"Car: {self.name_of_vehicle}, {self.display_body()}, {self.start_engine()}\"\n",
    "\n",
    "\n",
    "my_car = Car(\"V8\", \"Sedan\", \"Ford Mustang\")\n",
    "print(my_car.display_car_details())\n"
   ]
  },
  {
   "cell_type": "markdown",
   "id": "89a14d5c",
   "metadata": {},
   "source": [
    "Q4. What are getter and setter in python? Create a class and create a getter and a setter method in this\n",
    "class."
   ]
  },
  {
   "cell_type": "markdown",
   "id": "176ad0e6",
   "metadata": {},
   "source": [
    "Getters and setters are methods used to access and modify the values of private or protected attributes in a class. These methods provide a controlled way of accessing or updating an attribute, allowing for validation, logging, or other processing when getting or setting a value.\n",
    "\n",
    "Getters\n",
    "\n",
    "Getter methods are used to retrieve or \"get\" the value of an attribute.\n",
    "Setters\n",
    "\n",
    "Setter methods are used to update or \"set\" the value of an attribute"
   ]
  },
  {
   "cell_type": "code",
   "execution_count": 6,
   "id": "fd152436",
   "metadata": {},
   "outputs": [
    {
     "name": "stdout",
     "output_type": "stream",
     "text": [
      "John Doe\n",
      "Jane Doe\n",
      "30\n",
      "35\n"
     ]
    }
   ],
   "source": [
    "class Person:\n",
    "    def __init__(self, name, age):\n",
    "        self._name = name  # Protected attribute\n",
    "        self._age = age    # Protected attribute\n",
    "\n",
    "    # Getter method for 'name'\n",
    "    @property\n",
    "    def name(self):\n",
    "        return self._name\n",
    "\n",
    "    # Setter method for 'name'\n",
    "    @name.setter\n",
    "    def name(self, value):\n",
    "        if isinstance(value, str) and value:\n",
    "            self._name = value\n",
    "        else:\n",
    "            raise ValueError(\"Name must be a non-empty string\")\n",
    "\n",
    "    # Getter method for 'age'\n",
    "    @property\n",
    "    def age(self):\n",
    "        return self._age\n",
    "\n",
    "    # Setter method for 'age'\n",
    "    @age.setter\n",
    "    def age(self, value):\n",
    "        if isinstance(value, int) and value > 0:\n",
    "            self._age = value\n",
    "        else:\n",
    "            raise ValueError(\"Age must be a positive integer\")\n",
    "\n",
    "# Example usage:\n",
    "person = Person(\"John Doe\", 30)\n",
    "\n",
    "# Using the getter method\n",
    "print(person.name)  # Output: John Doe\n",
    "\n",
    "# Using the setter method\n",
    "person.name = \"Jane Doe\"\n",
    "print(person.name)  # Output: Jane Doe\n",
    "\n",
    "# Using the getter method for age\n",
    "print(person.age)  # Output: 30\n",
    "\n",
    "# Using the setter method for age\n",
    "person.age = 35\n",
    "print(person.age)  # Output: 35\n",
    "\n",
    "# Trying to set an invalid age (this will raise an exception)\n",
    "# person.age = -5  # Raises ValueError: Age must be a positive integer\n"
   ]
  },
  {
   "cell_type": "markdown",
   "id": "f4d139c6",
   "metadata": {},
   "source": [
    "Q5.What is method overriding in python? Write a python code to demonstrate method overriding."
   ]
  },
  {
   "cell_type": "markdown",
   "id": "f499dd46",
   "metadata": {},
   "source": [
    "Method overriding allows a subclass to alter or extend the behavior of a method inherited from its parent class.\n",
    "The overriding method in the child class should have the same name, parameters, and return type as the method in the parent class."
   ]
  },
  {
   "cell_type": "code",
   "execution_count": 7,
   "id": "a466180e",
   "metadata": {},
   "outputs": [
    {
     "name": "stdout",
     "output_type": "stream",
     "text": [
      "The animal makes a sound\n",
      "The dog barks\n",
      "The cat meows\n"
     ]
    }
   ],
   "source": [
    "# Parent class\n",
    "class Animal:\n",
    "    def speak(self):\n",
    "        return \"The animal makes a sound\"\n",
    "\n",
    "# Child class inheriting from Animal\n",
    "class Dog(Animal):\n",
    "    def speak(self):\n",
    "        return \"The dog barks\"\n",
    "\n",
    "# Child class inheriting from Animal\n",
    "class Cat(Animal):\n",
    "    def speak(self):\n",
    "        return \"The cat meows\"\n",
    "\n",
    "# Example usage:\n",
    "generic_animal = Animal()\n",
    "dog = Dog()\n",
    "cat = Cat()\n",
    "\n",
    "print(generic_animal.speak())  # Output: The animal makes a sound\n",
    "print(dog.speak())             # Output: The dog barks\n",
    "print(cat.speak())             # Output: The cat meows\n"
   ]
  },
  {
   "cell_type": "code",
   "execution_count": null,
   "id": "b0a5d4f6",
   "metadata": {},
   "outputs": [],
   "source": []
  }
 ],
 "metadata": {
  "kernelspec": {
   "display_name": "Python 3 (ipykernel)",
   "language": "python",
   "name": "python3"
  },
  "language_info": {
   "codemirror_mode": {
    "name": "ipython",
    "version": 3
   },
   "file_extension": ".py",
   "mimetype": "text/x-python",
   "name": "python",
   "nbconvert_exporter": "python",
   "pygments_lexer": "ipython3",
   "version": "3.11.4"
  }
 },
 "nbformat": 4,
 "nbformat_minor": 5
}
