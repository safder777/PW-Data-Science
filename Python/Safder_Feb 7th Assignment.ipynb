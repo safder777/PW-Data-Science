{
 "cells": [
  {
   "cell_type": "markdown",
   "id": "93780666",
   "metadata": {},
   "source": [
    "## Safder Shakil\n",
    "\n",
    "### Feb 7th Assignment\n",
    "\n",
    "### Q1"
   ]
  },
  {
   "cell_type": "code",
   "execution_count": 1,
   "id": "345fc16e",
   "metadata": {},
   "outputs": [
    {
     "name": "stdout",
     "output_type": "stream",
     "text": [
      "Enter the password: ghfkl123df\n",
      "Invalid Password\n"
     ]
    }
   ],
   "source": [
    "import re\n",
    "\n",
    "def check_password(password):\n",
    "    # Check the length of the password\n",
    "    if len(password) != 10:\n",
    "        return \"Invalid Password\"\n",
    "    \n",
    "    # Check for at least two uppercase letters\n",
    "    if len(re.findall(r'[A-Z]', password)) < 2:\n",
    "        return \"Invalid Password\"\n",
    "    \n",
    "    # Check for at least two lowercase letters\n",
    "    if len(re.findall(r'[a-z]', password)) < 2:\n",
    "        return \"Invalid Password\"\n",
    "    \n",
    "    # Check for at least one number\n",
    "    if len(re.findall(r'[0-9]', password)) < 1:\n",
    "        return \"Invalid Password\"\n",
    "    \n",
    "    # Check for at least three special characters\n",
    "    if len(re.findall(r'[^A-Za-z0-9]', password)) < 3:\n",
    "        return \"Invalid Password\"\n",
    "    \n",
    "    return \"Valid Password\"\n",
    "\n",
    "# Example usage:\n",
    "password = input(\"Enter the password: \")\n",
    "result = check_password(password)\n",
    "print(result)\n"
   ]
  },
  {
   "cell_type": "code",
   "execution_count": 2,
   "id": "f771aacb",
   "metadata": {},
   "outputs": [
    {
     "name": "stdout",
     "output_type": "stream",
     "text": [
      "Valid Password\n",
      "Invalid Password\n",
      "Invalid Password\n",
      "Invalid Password\n",
      "Valid Password\n"
     ]
    }
   ],
   "source": [
    "# Example passwords to test\n",
    "print(check_password(\"AAbb123!@#\"))  # Valid Password\n",
    "print(check_password(\"AAbb1234!\"))   # Invalid Password (only two special characters)\n",
    "print(check_password(\"AAbbbb1234\"))  # Invalid Password (only one uppercase letter)\n",
    "print(check_password(\"aabbcc1234\"))  # Invalid Password (no uppercase letters)\n",
    "print(check_password(\"AA@@bb12#4\"))  # Valid Password\n"
   ]
  },
  {
   "cell_type": "markdown",
   "id": "1a5ea94a",
   "metadata": {},
   "source": [
    "### Q2"
   ]
  },
  {
   "cell_type": "code",
   "execution_count": 3,
   "id": "a32ed23a",
   "metadata": {},
   "outputs": [
    {
     "name": "stdout",
     "output_type": "stream",
     "text": [
      "['apple']\n"
     ]
    }
   ],
   "source": [
    "#check wheather a string starts with 'a'\n",
    "string_list = [\"apple\", \"banana\", \"cherry\"]\n",
    "starts_with_a = lambda s: s.startswith('a')\n",
    "result = list(filter(starts_with_a, string_list))\n",
    "print(result)  # Output: ['apple']"
   ]
  },
  {
   "cell_type": "code",
   "execution_count": 5,
   "id": "f8197d3c",
   "metadata": {},
   "outputs": [
    {
     "name": "stdout",
     "output_type": "stream",
     "text": [
      "['apple']\n"
     ]
    }
   ],
   "source": [
    "# using comprehension\n",
    "result = [s for s in string_list if s.startswith('a')]\n",
    "print(result)  "
   ]
  },
  {
   "cell_type": "code",
   "execution_count": 6,
   "id": "e450ea3e",
   "metadata": {},
   "outputs": [
    {
     "name": "stdout",
     "output_type": "stream",
     "text": [
      "['123', '456']\n"
     ]
    }
   ],
   "source": [
    "# Check if string is numeric using filter\n",
    "\n",
    "string_list = [\"123\", \"hello\", \"456\"]\n",
    "is_numeric = lambda s: s.isdigit()\n",
    "result = list(filter(is_numeric, string_list))\n",
    "print(result)  "
   ]
  },
  {
   "cell_type": "code",
   "execution_count": 8,
   "id": "b9fec659",
   "metadata": {},
   "outputs": [
    {
     "name": "stdout",
     "output_type": "stream",
     "text": [
      "['123', '456']\n"
     ]
    }
   ],
   "source": [
    "# using compresension\n",
    "\n",
    "result = [s for s in string_list if s.isdigit()]\n",
    "print(result)  # Output: ['123', '456']\n"
   ]
  },
  {
   "cell_type": "code",
   "execution_count": 10,
   "id": "da71a50c",
   "metadata": {},
   "outputs": [
    {
     "name": "stdout",
     "output_type": "stream",
     "text": [
      "[('orange', 80), ('mango', 99), ('grapes', 1000)]\n"
     ]
    }
   ],
   "source": [
    "# sort a list of fruit name haivng tuple\n",
    "\n",
    "fruit_list = [(\"mango\", 99), (\"orange\", 80), (\"grapes\", 1000)]\n",
    "sorted_fruits = sorted(fruit_list, key=lambda x: x[1])\n",
    "print(sorted_fruits)  # Output: [('orange', 80), ('mango', 99), ('grapes', 1000)]\n"
   ]
  },
  {
   "cell_type": "code",
   "execution_count": 12,
   "id": "4d6a7ea7",
   "metadata": {},
   "outputs": [
    {
     "name": "stdout",
     "output_type": "stream",
     "text": [
      "[1, 4, 9, 16, 25, 36, 49, 64, 81, 100]\n"
     ]
    }
   ],
   "source": [
    "# find the squares\n",
    "\n",
    "squares = [x**2 for x in range(1, 11)]\n",
    "print(squares) "
   ]
  },
  {
   "cell_type": "code",
   "execution_count": 14,
   "id": "2038f140",
   "metadata": {},
   "outputs": [
    {
     "name": "stdout",
     "output_type": "stream",
     "text": [
      "[1.0, 1.2599210498948732, 1.4422495703074083, 1.5874010519681994, 1.7099759466766968, 1.8171205928321397, 1.912931182772389, 2.0, 2.080083823051904, 2.154434690031884]\n"
     ]
    }
   ],
   "source": [
    "# find cube root from 1 to 10\n",
    "import math\n",
    "cube_roots= [math.pow(x,1/3) for x in range (1,11)]\n",
    "print(cube_roots)"
   ]
  },
  {
   "cell_type": "code",
   "execution_count": 16,
   "id": "7beb1762",
   "metadata": {},
   "outputs": [
    {
     "name": "stdout",
     "output_type": "stream",
     "text": [
      "True\n",
      "False\n"
     ]
    }
   ],
   "source": [
    "# check if a given number is even\n",
    "\n",
    "is_even= lambda x: x%2==0\n",
    "print(is_even(4))\n",
    "print(is_even(5))"
   ]
  },
  {
   "cell_type": "code",
   "execution_count": 17,
   "id": "a605e748",
   "metadata": {},
   "outputs": [
    {
     "name": "stdout",
     "output_type": "stream",
     "text": [
      "[1, 3, 5, 7, 9]\n"
     ]
    }
   ],
   "source": [
    "# find odd numbers\n",
    "\n",
    "numbers=[1,2,3,4,5,6,7,8,9,10]\n",
    "is_odd= lambda x: x%2 !=0\n",
    "odd_numbers= list(filter(is_odd,numbers))\n",
    "print(odd_numbers)\n"
   ]
  },
  {
   "cell_type": "code",
   "execution_count": 18,
   "id": "7487d362",
   "metadata": {},
   "outputs": [
    {
     "name": "stdout",
     "output_type": "stream",
     "text": [
      "[1, 3, 5, 7, 9]\n"
     ]
    }
   ],
   "source": [
    "# using list comprehension\n",
    "\n",
    "odd_number=[x for x  in numbers if x%2 !=0]\n",
    "print(odd_numbers)"
   ]
  },
  {
   "cell_type": "code",
   "execution_count": 19,
   "id": "6fff461a",
   "metadata": {},
   "outputs": [
    {
     "name": "stdout",
     "output_type": "stream",
     "text": [
      "Positive integers: [1, 2, 3, 4, 5, 6]\n",
      "Negative integers: [-1, -2, -3, -4, -5]\n"
     ]
    }
   ],
   "source": [
    "# sort a list of integers using comprehension\n",
    "\n",
    "numbers = [1, 2, 3, 4, 5, 6, -1, -2, -3, -4, -5, 0]\n",
    "positives = [x for x in numbers if x > 0]\n",
    "negatives = [x for x in numbers if x < 0]\n",
    "print(\"Positive integers:\", positives)  \n",
    "print(\"Negative integers:\", negatives)  \n"
   ]
  },
  {
   "cell_type": "code",
   "execution_count": 20,
   "id": "28c478cd",
   "metadata": {},
   "outputs": [
    {
     "name": "stdout",
     "output_type": "stream",
     "text": [
      "Positives numbers are  [1, 2, 3, 4, 5, 6]\n",
      "Negative numbers are  [-1, -2, -3, -4, -5]\n"
     ]
    }
   ],
   "source": [
    "# using filters\n",
    "\n",
    "positives= list(filter(lambda x: x>0,numbers))\n",
    "negatives= list(filter(lambda x:x<0,numbers))\n",
    "print(\"Positives numbers are \",positives)\n",
    "\n",
    "print(\"Negative numbers are \", negatives)"
   ]
  },
  {
   "cell_type": "code",
   "execution_count": 31,
   "id": "27c2a33f",
   "metadata": {},
   "outputs": [
    {
     "name": "stdout",
     "output_type": "stream",
     "text": [
      "enter an integer 8\n",
      "You entered 8\n"
     ]
    }
   ],
   "source": [
    "user = int(input(\"enter an integer \"))\n",
    "print(\"You entered\",user)\n"
   ]
  },
  {
   "cell_type": "code",
   "execution_count": null,
   "id": "2ad5beee",
   "metadata": {},
   "outputs": [],
   "source": []
  }
 ],
 "metadata": {
  "kernelspec": {
   "display_name": "Python 3 (ipykernel)",
   "language": "python",
   "name": "python3"
  },
  "language_info": {
   "codemirror_mode": {
    "name": "ipython",
    "version": 3
   },
   "file_extension": ".py",
   "mimetype": "text/x-python",
   "name": "python",
   "nbconvert_exporter": "python",
   "pygments_lexer": "ipython3",
   "version": "3.11.4"
  }
 },
 "nbformat": 4,
 "nbformat_minor": 5
}
