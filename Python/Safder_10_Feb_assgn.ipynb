{
 "cells": [
  {
   "cell_type": "markdown",
   "id": "b85d715c",
   "metadata": {},
   "source": [
    "Q1. Which function is used to open a file? What are the different modes of opening a file? Explain each mode\n",
    "of file opening."
   ]
  },
  {
   "cell_type": "markdown",
   "id": "a45ad353",
   "metadata": {},
   "source": [
    "Different Modes of Opening a File:\n",
    "'r' (Read mode):\n",
    "\n",
    "- Opens a file for reading.\n",
    " The file pointer is placed at the beginning of the file.\n",
    " If the file does not exist, a FileNotFoundError is raised.\n",
    " \n",
    " Example: open('filename.txt', 'r')\n",
    "'w' (Write mode):\n",
    "\n",
    "- Opens a file for writing.\n",
    "If the file exists, its contents are truncated (i.e., the file is cleared) before writing.\n",
    "If the file does not exist, it creates a new file.\n",
    "\n",
    "Example: open('filename.txt', 'w')\n",
    "\n",
    "'a' (Append mode):\n",
    "\n",
    "- Opens a file for writing.\n",
    "\n",
    "The file pointer is placed at the end of the file.\n",
    "\n",
    "If the file does not exist, it creates a new file.\n",
    "\n",
    "Data written to the file is appended to the end, preserving the existing content.\n",
    "\n",
    "Example: open('filename.txt', 'a')"
   ]
  },
  {
   "cell_type": "markdown",
   "id": "842d7f46",
   "metadata": {},
   "source": [
    "Q2. Why close() function is used? Why is it important to close a file?"
   ]
  },
  {
   "cell_type": "markdown",
   "id": "dcb0d47c",
   "metadata": {},
   "source": [
    "The close() function is essential for freeing up system resources, ensuring data integrity, preventing file corruption, and avoiding potential issues with file locking and file descriptor limits.\n",
    "\n",
    "The with statement is a safer and more convenient way to handle files, as it automatically closes the file when done."
   ]
  },
  {
   "cell_type": "markdown",
   "id": "1e427c83",
   "metadata": {},
   "source": [
    "Q3. Write a python program to create a text file. Write ‘I want to become a Data Scientist’ in that file. Then\n",
    "close the file. Open this file and read the content of the file."
   ]
  },
  {
   "cell_type": "code",
   "execution_count": 1,
   "id": "b8664925",
   "metadata": {},
   "outputs": [
    {
     "name": "stdout",
     "output_type": "stream",
     "text": [
      "I want to become a Data Scientist\n"
     ]
    }
   ],
   "source": [
    "# Step 1: Create a text file and write to it\n",
    "with open('data_scientist.txt', 'w') as file:\n",
    "    file.write('I want to become a Data Scientist')\n",
    "\n",
    "# Step 2: Open the file and read the content\n",
    "with open('data_scientist.txt', 'r') as file:\n",
    "    content = file.read()\n",
    "    print(content)"
   ]
  },
  {
   "cell_type": "markdown",
   "id": "d3383351",
   "metadata": {},
   "source": [
    "Q4. Explain the following with python code: read(), readline() and readlines()."
   ]
  },
  {
   "cell_type": "markdown",
   "id": "c9c38711",
   "metadata": {},
   "source": [
    "- read(): Reads the entire content of the file as a single string.\n",
    "- readline(): Reads one line at a time from the file.\n",
    "- readlines(): Reads all lines from the file and returns them as a list of strings, where each string is a line from the file."
   ]
  },
  {
   "cell_type": "code",
   "execution_count": 3,
   "id": "bfe6e3d9",
   "metadata": {},
   "outputs": [
    {
     "name": "stdout",
     "output_type": "stream",
     "text": [
      "Using read():\n",
      "Line 1\n",
      "Line 2\n",
      "Line 3\n"
     ]
    }
   ],
   "source": [
    "# Create a sample text file\n",
    "with open('sample.txt', 'w') as file:\n",
    "    file.write(\"Line 1\\nLine 2\\nLine 3\")\n",
    "\n",
    "# Reading the entire file content\n",
    "with open('sample.txt', 'r') as file:\n",
    "    content = file.read()\n",
    "    print(\"Using read():\")\n",
    "    print(content)\n"
   ]
  },
  {
   "cell_type": "code",
   "execution_count": 4,
   "id": "25694378",
   "metadata": {},
   "outputs": [
    {
     "name": "stdout",
     "output_type": "stream",
     "text": [
      "Using readline():\n",
      "Line 1\n",
      "Line 2\n"
     ]
    }
   ],
   "source": [
    "# Reading the file line by line using readline()\n",
    "with open('sample.txt', 'r') as file:\n",
    "    print(\"Using readline():\")\n",
    "    line1 = file.readline()\n",
    "    print(line1, end='')  # end='' is used to avoid adding an extra newline\n",
    "    line2 = file.readline()\n",
    "    print(line2, end='')\n"
   ]
  },
  {
   "cell_type": "code",
   "execution_count": 5,
   "id": "b100ea47",
   "metadata": {},
   "outputs": [
    {
     "name": "stdout",
     "output_type": "stream",
     "text": [
      "Using readlines():\n",
      "['Line 1\\n', 'Line 2\\n', 'Line 3']\n"
     ]
    }
   ],
   "source": [
    "# Reading all lines as a list using readlines()\n",
    "with open('sample.txt', 'r') as file:\n",
    "    lines = file.readlines()\n",
    "    print(\"Using readlines():\")\n",
    "    print(lines)\n"
   ]
  },
  {
   "cell_type": "code",
   "execution_count": null,
   "id": "69f9a076",
   "metadata": {},
   "outputs": [],
   "source": []
  }
 ],
 "metadata": {
  "kernelspec": {
   "display_name": "Python 3 (ipykernel)",
   "language": "python",
   "name": "python3"
  },
  "language_info": {
   "codemirror_mode": {
    "name": "ipython",
    "version": 3
   },
   "file_extension": ".py",
   "mimetype": "text/x-python",
   "name": "python",
   "nbconvert_exporter": "python",
   "pygments_lexer": "ipython3",
   "version": "3.11.4"
  }
 },
 "nbformat": 4,
 "nbformat_minor": 5
}
