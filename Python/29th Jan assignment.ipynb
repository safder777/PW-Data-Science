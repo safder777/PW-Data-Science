{
 "cells": [
  {
   "cell_type": "markdown",
   "id": "2a8846bc",
   "metadata": {},
   "source": [
    "## Safder Shakil"
   ]
  },
  {
   "cell_type": "markdown",
   "id": "fd76a719",
   "metadata": {},
   "source": [
    "### 1.Who developed python programming language.\n"
   ]
  },
  {
   "cell_type": "markdown",
   "id": "f199ddb9",
   "metadata": {},
   "source": [
    "Python was developed by Guido van Rossum. He started working on Python in the late \n",
    "1980s, and the language was first released in 1991."
   ]
  },
  {
   "cell_type": "markdown",
   "id": "92ec16e9",
   "metadata": {},
   "source": [
    "### 2.Which type of programming does python support ?"
   ]
  },
  {
   "cell_type": "markdown",
   "id": "d227ae93",
   "metadata": {},
   "source": [
    "Procedural programming.\n",
    "Object oriented programming .\n",
    "Function programming.\n",
    "Imperative programming.\n",
    "Reflective programing."
   ]
  },
  {
   "cell_type": "markdown",
   "id": "94f6ab48",
   "metadata": {},
   "source": [
    "### 3. Is python case sensitive with identifiers ?"
   ]
  },
  {
   "cell_type": "markdown",
   "id": "8338db6a",
   "metadata": {},
   "source": [
    "Yes, This means that variable names, function names, and other identifiers must be used \n",
    "consistently with regard to their case."
   ]
  },
  {
   "cell_type": "markdown",
   "id": "d0f53440",
   "metadata": {},
   "source": [
    "### 4.What is correct extension of python file ?"
   ]
  },
  {
   "cell_type": "markdown",
   "id": "a8b2326d",
   "metadata": {},
   "source": [
    "The correct extension is .py"
   ]
  },
  {
   "cell_type": "markdown",
   "id": "866d6bd5",
   "metadata": {},
   "source": [
    "### 5. Is python code compiled or interpreted ?\n"
   ]
  },
  {
   "cell_type": "markdown",
   "id": "3d38f370",
   "metadata": {},
   "source": [
    "Python code is primarily interpreted. When you run a Python script, the Python interpreter \n",
    "converts the source code into bytecode, which is then executed by the Python virtual \n",
    "machine (PVM). This process allows Python to be an interpreted language, although it also \n",
    "involves a compilation step to bytecode.\n"
   ]
  },
  {
   "cell_type": "markdown",
   "id": "fa7934a0",
   "metadata": {},
   "source": [
    "### 6. Name a few blocks of code used to define in python language "
   ]
  },
  {
   "cell_type": "markdown",
   "id": "b566dceb",
   "metadata": {},
   "source": [
    "In Python, blocks of code are defined using indentation rather than braces or keywords. \n",
    "Here are a few types of code blocks commonly used in Python:\n",
    "def my_function():\n",
    " ### Function block\n",
    " print(\"Hello, World!\")\n",
    "Classes\n",
    "class MyClass:\n",
    " ### Class block\n",
    " def __init__(self, value):\n",
    " self.value = value\n",
    "Conditional Statement\n",
    "if condition:\n",
    " ### If block\n",
    " print(\"Condition is True\")\n",
    "elif another_condition:\n",
    " ### Elif block\n",
    " print(\"Another condition is True\")\n",
    "else:\n",
    " ### Else block\n",
    " print(\"Condition is False\")"
   ]
  },
  {
   "cell_type": "markdown",
   "id": "93997966",
   "metadata": {},
   "source": [
    "### 7. state a character used to give single line comment in python."
   ]
  },
  {
   "cell_type": "markdown",
   "id": "3c2c5e38",
   "metadata": {},
   "source": [
    "‘#’ gives a single line comment"
   ]
  },
  {
   "cell_type": "markdown",
   "id": "60d3bd88",
   "metadata": {},
   "source": [
    "### 8. mentions functions which helps us find version of the python."
   ]
  },
  {
   "cell_type": "markdown",
   "id": "1683a436",
   "metadata": {},
   "source": [
    "python --version\n",
    "# or\n",
    "python -V"
   ]
  },
  {
   "cell_type": "markdown",
   "id": "359f8764",
   "metadata": {},
   "source": [
    "### 9. python supports anamous function at runtime , using a constuct called-------- "
   ]
  },
  {
   "cell_type": "markdown",
   "id": "06afcc5d",
   "metadata": {},
   "source": [
    "Lambda , lambda functions are often used for short, throwaway functions, typically as \n",
    "arguments to higher-order functions like map(), filter(), and sorted()."
   ]
  },
  {
   "cell_type": "markdown",
   "id": "bd55199b",
   "metadata": {},
   "source": [
    "### 10. what does pip stands for in python ?"
   ]
  },
  {
   "cell_type": "markdown",
   "id": "06281357",
   "metadata": {},
   "source": [
    "pip stands for \"Pip Installs Packages\" or \"Preferred Installer Program.\" It is the package \n",
    "installer for Python and allows you to install and manage additional libraries and \n",
    "dependencies that are not included in the standard Python library.\n",
    "You can use pip to install packages from the Python Package Index (PyPI) and other \n",
    "indexes. Here are some common pip commands.\n",
    "Abs(),len(),max(),min() etc."
   ]
  },
  {
   "cell_type": "markdown",
   "id": "6b594146",
   "metadata": {},
   "source": [
    "### 11.What are few built in functions in python ?"
   ]
  },
  {
   "cell_type": "markdown",
   "id": "e48fd2f2",
   "metadata": {},
   "source": [
    "Python includes a variety of built-in functions that provide basic functionality without needing to import any additional modules. Here are a few examples:\n",
    "\n",
    "\n",
    "abs(): Returns the absolute value of a number.\n",
    "\n",
    "len(): Returns the length (the number of items) of an object.\n",
    "\n",
    "max(): Returns the largest item in an iterable or the largest of two or more arguments.\n"
   ]
  },
  {
   "cell_type": "markdown",
   "id": "f9675bfb",
   "metadata": {},
   "source": [
    "### 12. Max possible length of an identifier in python ?"
   ]
  },
  {
   "cell_type": "markdown",
   "id": "d54cb1f6",
   "metadata": {},
   "source": [
    "In Python, there is no explicit limit on the maximum length of an identifier (variable name). \n",
    "The length is only constrained by the limits of your memory and the underlying system. \n",
    "However, it is generally advisable to keep identifiers reasonably short and meaningful for \n",
    "readability and maintainability.\n",
    "\n",
    "For practical purposes, excessively long identifiers can make code difficult to read and \n",
    "maintain."
   ]
  },
  {
   "cell_type": "markdown",
   "id": "eabe888f",
   "metadata": {},
   "source": [
    "### 13. What are the benefits of using python ?"
   ]
  },
  {
   "cell_type": "markdown",
   "id": "9e1d66a9",
   "metadata": {},
   "source": [
    "Ease of Learning and Usesimple and readable syntax.\n",
    "\n",
    "Versatility: Python is a general-purpose language used for a wide range of applications, \n",
    "including web development, data analysis, machine learning, automation, scripting, and \n",
    "more.\n",
    "\n",
    "\n",
    "Large Standard Library: Python comes with a comprehensive standard library that provides \n",
    "many modules and packages for performing common tasks, reducing the need for \n",
    "additional code.\n",
    "\n",
    "Extensive Ecosystem: Python has a rich ecosystem of third-party libraries and frameworks \n",
    "that extend its capabilities, including popular libraries like NumPy, pandas, Django, Flask, \n",
    "and TensorFlow.\n",
    "\n",
    "Cross-Platform Compatibility: Python is available on various operating systems, including \n",
    "Windows, macOS, and Linux, making it easy to write code that works across different \n",
    "platforms.\n",
    "\n",
    "Strong Community Support: Python has a large and active community that contributes to a \n",
    "wealth of resources, including documentation, tutorials, forums, and open-source \n",
    "projects.\n",
    "\n",
    "Integration Capabilities: Python can easily integrate with other languages and \n",
    "technologies. It can interface with C/C++, Java, and other languages, and work with \n",
    "databases and web services.\n",
    "\n",
    "Readability and Maintainability: Python’s emphasis on code readability and a clean syntax \n",
    "helps maintain and understand code more easily, which is crucial for long-term projects.\n",
    "Productivity and Speed: Python's high-level nature and extensive libraries can significantly \n",
    "boost development speed and productivity, allowing developers to focus more on solving \n",
    "problems than on coding details.\n",
    "\n",
    "Support for Modern Development Practices: Python supports modern development \n",
    "practices such as object-oriented, functional, and procedural programming. It also \n",
    "supports test-driven development and continuous integration.\n",
    "Strong Data Science and Machine Learning Support: Python has become a dominant \n",
    "language in data science and machine learning, thanks to libraries like pandas, NumPy, \n",
    "SciPy, scikit-learn, and TensorFlow.\n",
    "\n",
    "Scalability: While Python is often associated with scripting and rapid development, it can \n",
    "also be used for large-scale applications, especially with frameworks like Django for web \n",
    "development or tools like Celery for task queues."
   ]
  },
  {
   "cell_type": "markdown",
   "id": "37467590",
   "metadata": {},
   "source": [
    "### 14. How is memory managed in python ?"
   ]
  },
  {
   "cell_type": "markdown",
   "id": "aa954ddb",
   "metadata": {},
   "source": [
    "Garbage Collection: Python's garbage collector handles cyclic references that reference \n",
    "counting cannot, using a generational approach.\n",
    "\n",
    "Memory Pools: Python uses memory pooling and free lists to efficiently allocate and \n",
    "deallocate memory for small objects.\n",
    "\n",
    "Dynamic Resizing: Built-in data structures like lists and dictionaries dynamically adjust \n",
    "their size as needed.\n",
    "\n",
    "Explicit Memory Management: Developers can manually manage memory using del, the gc \n",
    "module, and profiling tools.\n",
    "\n",
    "These mechanisms work together to efficiently manage and optimize memory usage in \n",
    "Python."
   ]
  },
  {
   "cell_type": "markdown",
   "id": "bb24a85b",
   "metadata": {},
   "source": [
    "### 15. How to install python on windows and set path variables ?"
   ]
  },
  {
   "cell_type": "markdown",
   "id": "1b9cba4f",
   "metadata": {},
   "source": [
    "Manually Set PATH Variable (If Needed)\n",
    "\n",
    "If you didn’t check the box to add Python to PATH during installation, or if you need to \n",
    "manually set the PATH, follow these steps:\n",
    "Find the Python Installation Directory:\n",
    "By default, Python is installed in \n",
    "C:\\Users\\<YourUsername>\\AppData\\Local\\Programs\\Python\\Python<version>.\n",
    "Add Python to PATH:"
   ]
  },
  {
   "cell_type": "markdown",
   "id": "45868edb",
   "metadata": {},
   "source": [
    "### 16. Is indentation required in python "
   ]
  },
  {
   "cell_type": "markdown",
   "id": "3ebf3dce",
   "metadata": {},
   "source": [
    "Yes, indentation is required in Python. Unlike many other programming languages that use \n",
    "braces or other delimiters to define blocks of code, Python uses indentation to indicate the \n",
    "structure and scope of code blocks. This includes defining the body of functions, loops, \n",
    "conditionals, and classes.\n"
   ]
  },
  {
   "cell_type": "code",
   "execution_count": 5,
   "id": "b0f31f6b",
   "metadata": {},
   "outputs": [
    {
     "ename": "SyntaxError",
     "evalue": "invalid syntax (1014510387.py, line 3)",
     "output_type": "error",
     "traceback": [
      "\u001b[1;36m  Cell \u001b[1;32mIn[5], line 3\u001b[1;36m\u001b[0m\n\u001b[1;33m    Conditional Statement\u001b[0m\n\u001b[1;37m                ^\u001b[0m\n\u001b[1;31mSyntaxError\u001b[0m\u001b[1;31m:\u001b[0m invalid syntax\n"
     ]
    }
   ],
   "source": [
    "\n",
    "def greet(name):\n",
    "  print(f\"Hello, {name}!\") # Indented block is the function body\n",
    "Conditional Statement\n",
    "if age >= 18:\n",
    " print(\"You are an adult.\") # Indented block is executed if the condition is true\n",
    "else:\n",
    " print(\"You are a minor.\")"
   ]
  },
  {
   "cell_type": "code",
   "execution_count": null,
   "id": "ef5d5da6",
   "metadata": {},
   "outputs": [],
   "source": []
  }
 ],
 "metadata": {
  "kernelspec": {
   "display_name": "Python 3 (ipykernel)",
   "language": "python",
   "name": "python3"
  },
  "language_info": {
   "codemirror_mode": {
    "name": "ipython",
    "version": 3
   },
   "file_extension": ".py",
   "mimetype": "text/x-python",
   "name": "python",
   "nbconvert_exporter": "python",
   "pygments_lexer": "ipython3",
   "version": "3.11.4"
  }
 },
 "nbformat": 4,
 "nbformat_minor": 5
}
