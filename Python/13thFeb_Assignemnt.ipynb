{
 "cells": [
  {
   "cell_type": "markdown",
   "id": "0a06d610",
   "metadata": {},
   "source": [
    "### Safder Shakil"
   ]
  },
  {
   "cell_type": "markdown",
   "id": "d87726a6",
   "metadata": {},
   "source": [
    "Q1. Explain why we have to use the Exception class while creating a Custom Exception.\n",
    "Note: Here Exception class refers to the base class for all the exceptions."
   ]
  },
  {
   "cell_type": "markdown",
   "id": "7b4e11d9",
   "metadata": {},
   "source": [
    "- When creating a custom exception in most programming languages (such as Python, Java, or C#), you typically inherit from the Exception class, which is the base class for all exceptions. Here’s why:\n",
    "\n",
    "1. Consistency with the Language's Error-Handling Mechanism:\n",
    "The Exception class is part of the language's error-handling framework. It defines how exceptions behave, how they can be caught, and how information about the error is propagated. By inheriting from Exception, your custom exception automatically integrates with the language’s existing mechanisms for raising, catching, and handling exceptions."
   ]
  },
  {
   "cell_type": "markdown",
   "id": "0ffb6ba1",
   "metadata": {},
   "source": [
    "2. Access to Standard Functionality "
   ]
  },
  {
   "cell_type": "markdown",
   "id": "ef8e5ada",
   "metadata": {},
   "source": [
    "3. Maintainability and Readability:\n",
    "When you inherit from Exception, it makes your code more readable and maintainable. Other developers will immediately recognize your custom exception as a part of the standard error-handling mechanism. "
   ]
  },
  {
   "cell_type": "markdown",
   "id": "1e1bec43",
   "metadata": {},
   "source": [
    "4. Compatibility with Existing Code:\n",
    "Since the Exception class is the base class for all exceptions, existing code that catches exceptions (like try-except blocks in Python) will work seamlessly with your custom exception. "
   ]
  },
  {
   "cell_type": "markdown",
   "id": "a477632e",
   "metadata": {},
   "source": [
    "5. Hierarchical Structure:\n",
    "By inheriting from Exception, your custom exceptions can also be organized hierarchically. You can create specific exceptions that inherit from more general custom exceptions, which in turn inherit from Exception."
   ]
  },
  {
   "cell_type": "markdown",
   "id": "a6576afb",
   "metadata": {},
   "source": [
    "Q2. Write a python program to print Python Exception Hierarchy."
   ]
  },
  {
   "cell_type": "code",
   "execution_count": 3,
   "id": "4c86b169",
   "metadata": {},
   "outputs": [
    {
     "name": "stdout",
     "output_type": "stream",
     "text": [
      "BaseExceptionGroup\n",
      "    ExceptionGroup\n",
      "Exception\n",
      "    ArithmeticError\n",
      "    AssertionError\n",
      "    AttributeError\n",
      "    BufferError\n",
      "    EOFError\n",
      "    ImportError\n",
      "    LookupError\n",
      "    MemoryError\n",
      "    NameError\n",
      "    OSError\n",
      "    ReferenceError\n",
      "    RuntimeError\n",
      "    StopAsyncIteration\n",
      "    StopIteration\n",
      "    SyntaxError\n",
      "    SystemError\n",
      "    TypeError\n",
      "    ValueError\n",
      "    Warning\n",
      "    ExceptionGroup\n",
      "    _OptionError\n",
      "    _Error\n",
      "    error\n",
      "    Error\n",
      "    SubprocessError\n",
      "    TokenError\n",
      "    StopTokenizing\n",
      "    ClassFoundException\n",
      "    EndOfBlock\n",
      "    TraitError\n",
      "    Error\n",
      "    Error\n",
      "    _GiveupOnSendfile\n",
      "    error\n",
      "    Incomplete\n",
      "    InvalidStateError\n",
      "    LimitOverrunError\n",
      "    QueueEmpty\n",
      "    QueueFull\n",
      "    error\n",
      "    LZMAError\n",
      "    RegistryError\n",
      "    _GiveupOnFastCopy\n",
      "    Empty\n",
      "    Full\n",
      "    ZMQBaseError\n",
      "    PickleError\n",
      "    _Stop\n",
      "    ArgumentError\n",
      "    COMError\n",
      "    ReturnValueIgnoredError\n",
      "    ArgumentError\n",
      "    ArgumentTypeError\n",
      "    ConfigError\n",
      "    ConfigurableError\n",
      "    ApplicationError\n",
      "    KeyReuseError\n",
      "    UnknownKeyError\n",
      "    LeakedCallbackError\n",
      "    BadYieldError\n",
      "    ReturnValueIgnoredError\n",
      "    Return\n",
      "    InvalidPortNumber\n",
      "    NoIPAddresses\n",
      "    BadZipFile\n",
      "    LargeZipFile\n",
      "    Error\n",
      "    BadEntryPoint\n",
      "    NoSuchEntryPoint\n",
      "    DuplicateKernelError\n",
      "    ErrorDuringImport\n",
      "    NotOneValueFound\n",
      "    CannotEval\n",
      "    OptionError\n",
      "    BdbQuit\n",
      "    Restart\n",
      "    FindCmdError\n",
      "    HomeDirError\n",
      "    ProfileDirError\n",
      "    IPythonCoreError\n",
      "    InputRejected\n",
      "    GetoptError\n",
      "    ErrorToken\n",
      "    PrefilterError\n",
      "    AliasError\n",
      "    Error\n",
      "    Warning\n",
      "    SpaceInInput\n",
      "    DOMException\n",
      "    ValidationError\n",
      "    EditReadOnlyBuffer\n",
      "    _Retry\n",
      "    InvalidLayoutError\n",
      "    HeightIsUnknownError\n",
      "    GuardRejection\n",
      "    ParserSyntaxError\n",
      "    InternalParseError\n",
      "    _PositionUpdatingFinished\n",
      "    SimpleGetItemNotFound\n",
      "    UncaughtAttributeError\n",
      "    HasNoContext\n",
      "    ParamIssue\n",
      "    _JediError\n",
      "    OnErrorLeaf\n",
      "    InvalidPythonEnvironment\n",
      "    MessageError\n",
      "    HTTPException\n",
      "    InteractivelyDefined\n",
      "    KillEmbedded\n",
      "    Error\n",
      "    Error\n",
      "    TimeoutExpired\n",
      "    TimeoutAbandoned\n",
      "    QueueEmpty\n",
      "    QueueFull\n",
      "    DebuggerInitializationError\n",
      "    ExpatError\n",
      "    Error\n",
      "    ParserSyntaxError\n",
      "    ResolutionError\n",
      "    _Error\n",
      "    UnableToResolveVariableException\n",
      "    InvalidTypeInArgsException\n",
      "    error\n",
      "    com_error\n",
      "GeneratorExit\n",
      "KeyboardInterrupt\n",
      "SystemExit\n",
      "CancelledError\n",
      "AbortThread\n"
     ]
    }
   ],
   "source": [
    "import sys\n",
    "\n",
    "def print_exception_hierarchy():\n",
    "    for cls in BaseException.__subclasses__():\n",
    "        print(cls.__name__)\n",
    "        for subclass in cls.__subclasses__():\n",
    "            print(f'    {subclass.__name__}')\n",
    "\n",
    "print_exception_hierarchy()\n"
   ]
  },
  {
   "cell_type": "markdown",
   "id": "172476a0",
   "metadata": {},
   "source": [
    "Q3. What errors are defined in the ArithmeticError class? Explain any two with an example."
   ]
  },
  {
   "cell_type": "markdown",
   "id": "77a8c7b9",
   "metadata": {},
   "source": [
    "The ArithmeticError class in Python is a built-in exception class that serves as the base class for all errors that occur during arithmetic operations. This includes various errors like division by zero, numerical overflows, and invalid operations on numbers.\n",
    "\n",
    "Common Errors Defined Under ArithmeticError:\n",
    "\n",
    "- ZeroDivisionError: Raised when attempting to divide by zero.\n",
    "\n",
    "- OverflowError: Raised when a numerical operation exceeds the limits of the data type.\n",
    "\n",
    "- FloatingPointError: Raised when a floating-point operation fails (though this is rarely used).\n",
    "\n",
    "- ValueError: Can also be considered under certain arithmetic contexts, although it's generally more generic."
   ]
  },
  {
   "cell_type": "markdown",
   "id": "24f67476",
   "metadata": {},
   "source": [
    "ZeroDivisionError\n",
    "Description: This error is raised when a division or modulo operation is performed with zero as the divisor."
   ]
  },
  {
   "cell_type": "code",
   "execution_count": 4,
   "id": "0ce4242d",
   "metadata": {},
   "outputs": [
    {
     "name": "stdout",
     "output_type": "stream",
     "text": [
      "Error: division by zero\n"
     ]
    }
   ],
   "source": [
    "try:\n",
    "    result = 10 / 0\n",
    "except ZeroDivisionError as e:\n",
    "    print(f\"Error: {e}\")\n"
   ]
  },
  {
   "cell_type": "markdown",
   "id": "dffc6bd4",
   "metadata": {},
   "source": [
    "2. OverflowError\n",
    "Description: This error is raised when a numerical operation exceeds the maximum limit for a numeric type. This typically occurs in cases where the result of an arithmetic operation is too large to be represented."
   ]
  },
  {
   "cell_type": "code",
   "execution_count": 5,
   "id": "78091f15",
   "metadata": {},
   "outputs": [
    {
     "name": "stdout",
     "output_type": "stream",
     "text": [
      "Error: math range error\n"
     ]
    }
   ],
   "source": [
    "import math\n",
    "\n",
    "try:\n",
    "    result = math.exp(1000)  # Exponential function, which will overflow\n",
    "except OverflowError as e:\n",
    "    print(f\"Error: {e}\")\n"
   ]
  },
  {
   "cell_type": "markdown",
   "id": "aa2e817e",
   "metadata": {},
   "source": [
    "Q4. Why LookupError class is used? Explain with an example KeyError and IndexError."
   ]
  },
  {
   "cell_type": "markdown",
   "id": "7c4afeb3",
   "metadata": {},
   "source": [
    "Why LookupError is Used:\n",
    "\n",
    "- Base Class for Lookup Failures: LookupError is used as a base class for exceptions related to invalid lookups. This allows developers to catch general lookup-related errors or handle specific cases like KeyError and IndexError.\n",
    "\n",
    "- Hierarchy and Structure: By having a base class like LookupError, Python provides a clear hierarchical structure. You can catch more specific exceptions (KeyError, IndexError) or use LookupError to catch all lookup-related errors in one block."
   ]
  },
  {
   "cell_type": "markdown",
   "id": "38a07007",
   "metadata": {},
   "source": [
    "Explanation with Examples:\n",
    "1. KeyError\n",
    "Description: KeyError is raised when you try to access a key in a dictionary that doesn't exist."
   ]
  },
  {
   "cell_type": "code",
   "execution_count": 6,
   "id": "fc3c3b9c",
   "metadata": {},
   "outputs": [
    {
     "name": "stdout",
     "output_type": "stream",
     "text": [
      "KeyError: The key 'd' does not exist.\n"
     ]
    }
   ],
   "source": [
    "my_dict = {'a': 1, 'b': 2, 'c': 3}\n",
    "\n",
    "try:\n",
    "    value = my_dict['d']  # 'd' is not a key in the dictionary\n",
    "except KeyError as e:\n",
    "    print(f\"KeyError: The key {e} does not exist.\")\n"
   ]
  },
  {
   "cell_type": "markdown",
   "id": "3917a18d",
   "metadata": {},
   "source": [
    "2. IndexError\n",
    "Description: IndexError is raised when you try to access an index in a list, tuple, or another sequence type that is out of range."
   ]
  },
  {
   "cell_type": "code",
   "execution_count": 7,
   "id": "f0eceb5c",
   "metadata": {},
   "outputs": [
    {
     "name": "stdout",
     "output_type": "stream",
     "text": [
      "IndexError: list index out of range\n"
     ]
    }
   ],
   "source": [
    "my_list = [1, 2, 3]\n",
    "\n",
    "try:\n",
    "    value = my_list[5]  # Index 5 is out of range\n",
    "except IndexError as e:\n",
    "    print(f\"IndexError: {e}\")\n"
   ]
  },
  {
   "cell_type": "markdown",
   "id": "60dbc56f",
   "metadata": {},
   "source": [
    "The LookupError class is useful for handling exceptions that occur during lookups in sequences or mappings. It serves as a base class for more specific exceptions like KeyError and IndexError, "
   ]
  },
  {
   "cell_type": "markdown",
   "id": "4686f037",
   "metadata": {},
   "source": [
    "Q5. Explain ImportError. What is ModuleNotFoundError?"
   ]
  },
  {
   "cell_type": "markdown",
   "id": "80df549c",
   "metadata": {},
   "source": [
    "ImportError:\n",
    "ImportError is a built-in exception in Python that is raised when an import statement fails to import a module or when the from ... import ... statement fails to find a name that is being imported. This exception typically occurs when:\n",
    "\n",
    "The specified module or package cannot be found: The module you're trying to import doesn't exist or is not installed.\n",
    "A module is found, but a particular object within it cannot be imported: The module exists, but the specific function, class, or variable you're trying to import from it does not."
   ]
  },
  {
   "cell_type": "code",
   "execution_count": 8,
   "id": "fe3dd355",
   "metadata": {},
   "outputs": [
    {
     "name": "stdout",
     "output_type": "stream",
     "text": [
      "ImportError: No module named 'some_nonexistent_module'\n"
     ]
    }
   ],
   "source": [
    "try:\n",
    "    import some_nonexistent_module\n",
    "except ImportError as e:\n",
    "    print(f\"ImportError: {e}\")\n"
   ]
  },
  {
   "cell_type": "markdown",
   "id": "33adb597",
   "metadata": {},
   "source": [
    "ModuleNotFoundError:\n",
    "\n",
    "ModuleNotFoundError is a subclass of ImportError that specifically occurs when a module cannot be found. It was introduced in Python 3.6 to provide a more specific exception for cases where the imported module is not available, making it easier to differentiate between a missing module and other types of import errors."
   ]
  },
  {
   "cell_type": "code",
   "execution_count": 9,
   "id": "893ee40f",
   "metadata": {},
   "outputs": [
    {
     "name": "stdout",
     "output_type": "stream",
     "text": [
      "ModuleNotFoundError: No module named 'another_nonexistent_module'\n"
     ]
    }
   ],
   "source": [
    "try:\n",
    "    import another_nonexistent_module\n",
    "except ModuleNotFoundError as e:\n",
    "    print(f\"ModuleNotFoundError: {e}\")\n"
   ]
  },
  {
   "cell_type": "markdown",
   "id": "b1cdf086",
   "metadata": {},
   "source": [
    "Q6. List down some best practices for exception handling in python."
   ]
  },
  {
   "cell_type": "markdown",
   "id": "61c41132",
   "metadata": {},
   "source": [
    "1. Use Specific Exceptions\n",
    "Avoid Catching Generic Exceptions: Instead of catching a broad exception like Exception or BaseException, catch specific exceptions that you expect might be raised.\n",
    "\n",
    "2. Use try-except Blocks Appropriately\n",
    "Wrap Only the Code That Might Fail: Limit the scope of the try block to only the code that might raise an exception. This makes it easier to debug and understand the exception source.\n",
    "\n",
    "3. Use finally for Cleanup\n",
    "Ensure Resources Are Released: Use the finally block to release resources like files, network connections, or database connections, ensuring that they are closed or released regardless of whether an exception occurred.\n",
    "\n",
    "4. Leverage else in try-except Blocks\n",
    "Use else for Code That Should Run if No Exception Occurs: The else block runs if the try block doesn't raise an exception, making the code clearer and separating exception handling from normal logic.\n",
    "\n",
    "5. Log Exceptions\n",
    "Use Logging to Record Exceptions: Instead of just printing errors, use Python’s logging module to record exceptions, which is especially useful for debugging in production environments.\n",
    "\n",
    "\n"
   ]
  },
  {
   "cell_type": "code",
   "execution_count": 10,
   "id": "e59d0d11",
   "metadata": {},
   "outputs": [
    {
     "name": "stderr",
     "output_type": "stream",
     "text": [
      "ERROR:root:Division by zero error: division by zero\n"
     ]
    }
   ],
   "source": [
    "import logging\n",
    "\n",
    "try:\n",
    "    result = 10 / 0\n",
    "except ZeroDivisionError as e:\n",
    "    logging.error(\"Division by zero error: %s\", e)\n"
   ]
  },
  {
   "cell_type": "code",
   "execution_count": null,
   "id": "1ba35e3e",
   "metadata": {},
   "outputs": [],
   "source": []
  }
 ],
 "metadata": {
  "kernelspec": {
   "display_name": "Python 3 (ipykernel)",
   "language": "python",
   "name": "python3"
  },
  "language_info": {
   "codemirror_mode": {
    "name": "ipython",
    "version": 3
   },
   "file_extension": ".py",
   "mimetype": "text/x-python",
   "name": "python",
   "nbconvert_exporter": "python",
   "pygments_lexer": "ipython3",
   "version": "3.11.4"
  }
 },
 "nbformat": 4,
 "nbformat_minor": 5
}
