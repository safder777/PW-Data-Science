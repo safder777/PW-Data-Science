{
 "cells": [
  {
   "cell_type": "markdown",
   "id": "4c7f21e5",
   "metadata": {},
   "source": [
    "## Assignment 1"
   ]
  },
  {
   "cell_type": "markdown",
   "id": "7745bd55",
   "metadata": {},
   "source": [
    "## ans 1"
   ]
  },
  {
   "cell_type": "markdown",
   "id": "7a385014",
   "metadata": {},
   "source": [
    "We us a for loop when the number of itearations are already known or for\n",
    "a specific number of iterations . \n",
    "\n",
    "We use while loop when we need to execute until a certain condition is no longer met."
   ]
  },
  {
   "cell_type": "code",
   "execution_count": 1,
   "id": "15f93002",
   "metadata": {},
   "outputs": [
    {
     "name": "stdout",
     "output_type": "stream",
     "text": [
      "*\n",
      "*\n",
      "*\n",
      "*\n"
     ]
    }
   ],
   "source": [
    "# exapmple\n",
    "for i in range (4):\n",
    "    print (\"*\")\n",
    "\n",
    "\n"
   ]
  },
  {
   "cell_type": "code",
   "execution_count": 2,
   "id": "91a79717",
   "metadata": {},
   "outputs": [
    {
     "name": "stdout",
     "output_type": "stream",
     "text": [
      "The sum is 55\n"
     ]
    }
   ],
   "source": [
    "n=10\n",
    "sum=0\n",
    "while n>0:\n",
    "    sum=sum+n\n",
    "    n=n-1\n",
    "print(\"The sum is\",sum)"
   ]
  },
  {
   "cell_type": "markdown",
   "id": "19b6457f",
   "metadata": {},
   "source": [
    "## Ans 2"
   ]
  },
  {
   "cell_type": "code",
   "execution_count": 3,
   "id": "84ed9f1d",
   "metadata": {},
   "outputs": [
    {
     "name": "stdout",
     "output_type": "stream",
     "text": [
      "Sum of the first 10 natural nos  55\n"
     ]
    }
   ],
   "source": [
    "# For loop\n",
    "\n",
    "sum=0\n",
    "p=1\n",
    "for i in range (1,11):\n",
    "    sum=sum+i\n",
    "    p=p*i\n",
    "    \n",
    "print(\"Sum of the first 10 natural nos \",sum)"
   ]
  },
  {
   "cell_type": "code",
   "execution_count": 4,
   "id": "c23a36b0",
   "metadata": {},
   "outputs": [
    {
     "name": "stdout",
     "output_type": "stream",
     "text": [
      "the sum of nautural nos is  55\n",
      "the product of natural nos is  3628800\n"
     ]
    }
   ],
   "source": [
    "# while loop\n",
    "\n",
    "sum=0\n",
    "p=1\n",
    "n=1\n",
    "while n<=10:\n",
    "    sum=sum+n\n",
    "    p=p*n\n",
    "    n+=1\n",
    "    \n",
    "print(\"the sum of nautural nos is \",sum)\n",
    "print(\"the product of natural nos is \",p)"
   ]
  },
  {
   "cell_type": "markdown",
   "id": "849aa98a",
   "metadata": {},
   "source": [
    "## ans 3"
   ]
  },
  {
   "cell_type": "code",
   "execution_count": 6,
   "id": "94996fd7",
   "metadata": {},
   "outputs": [
    {
     "name": "stdout",
     "output_type": "stream",
     "text": [
      "Enter the total units 310\n",
      "Electricity bill= RS 2250.0\n"
     ]
    }
   ],
   "source": [
    "t_units=int(input(\"Enter the total units \"))\n",
    "bill_amt=0\n",
    "\n",
    "if t_units<100:\n",
    "    bill_amt=t_units*4.5\n",
    "    \n",
    "elif t_units<=200:\n",
    "    bill_amt=100*4.5+(t_units-100)*6\n",
    "    \n",
    "elif t_units<=300:\n",
    "    bill_amt=100*4.5 +100*6 +(t_units-200)*10\n",
    "else:\n",
    "    bill_amt=100*4.5 +100*6 +100*10+(t_units-300)*20\n",
    "    \n",
    "print(\"Electricity bill= RS\", bill_amt)"
   ]
  },
  {
   "cell_type": "markdown",
   "id": "feda375b",
   "metadata": {},
   "source": [
    "## Ans 4"
   ]
  },
  {
   "cell_type": "code",
   "execution_count": 14,
   "id": "bad47857",
   "metadata": {},
   "outputs": [
    {
     "name": "stdout",
     "output_type": "stream",
     "text": [
      "[2, 4, 5, 6, 8, 10, 12, 14, 15, 16, 18, 20, 22, 24, 25, 26, 28, 30, 32, 34, 35, 36, 38, 40, 42, 44, 45, 46, 48, 50, 52, 54, 55, 56, 58, 60, 62, 64, 65, 66, 68, 70, 72, 74, 75, 76, 78, 80, 82, 84, 85, 86, 88, 90, 92, 94, 95, 96, 98, 100]\n"
     ]
    }
   ],
   "source": [
    "num_list=[]\n",
    "for num in range (1,101):\n",
    "    cube=num**3\n",
    "    if cube %4==0 or cube % 5==0:\n",
    "        num_list.append(num)\n",
    "print (num_list)    "
   ]
  },
  {
   "cell_type": "code",
   "execution_count": 15,
   "id": "807e5752",
   "metadata": {},
   "outputs": [
    {
     "name": "stdout",
     "output_type": "stream",
     "text": [
      "[2, 4, 5, 6, 8, 10, 12, 14, 15, 16, 18, 20, 22, 24, 25, 26, 28, 30, 32, 34, 35, 36, 38, 40, 42, 44, 45, 46, 48, 50, 52, 54, 55, 56, 58, 60, 62, 64, 65, 66, 68, 70, 72, 74, 75, 76, 78, 80, 82, 84, 85, 86, 88, 90, 92, 94, 95, 96, 98, 100]\n"
     ]
    }
   ],
   "source": [
    "num_list=[]\n",
    "num=1\n",
    "while num<=100:\n",
    "    cube=num**3\n",
    "    if cube %4==0 or cube%5==0:\n",
    "        num_list.append(num)\n",
    "    num+=1\n",
    "    \n",
    "print(num_list)"
   ]
  },
  {
   "cell_type": "markdown",
   "id": "d13bf49b",
   "metadata": {},
   "source": [
    "## Ans 5"
   ]
  },
  {
   "cell_type": "code",
   "execution_count": 19,
   "id": "37b2ec31",
   "metadata": {},
   "outputs": [
    {
     "name": "stdout",
     "output_type": "stream",
     "text": [
      "Number of vowels in the sentence is: 12\n"
     ]
    }
   ],
   "source": [
    "sent=\"I want to become a data scientist\"\n",
    "count=0\n",
    "vowels=\"aeiouAEIOU\"\n",
    "for char in sent:\n",
    "    if char in vowels:\n",
    "            count+=1\n",
    "        \n",
    "print(\"Number of vowels in the sentence is:\",count)"
   ]
  },
  {
   "cell_type": "code",
   "execution_count": null,
   "id": "71bf2581",
   "metadata": {},
   "outputs": [],
   "source": []
  }
 ],
 "metadata": {
  "kernelspec": {
   "display_name": "Python 3 (ipykernel)",
   "language": "python",
   "name": "python3"
  },
  "language_info": {
   "codemirror_mode": {
    "name": "ipython",
    "version": 3
   },
   "file_extension": ".py",
   "mimetype": "text/x-python",
   "name": "python",
   "nbconvert_exporter": "python",
   "pygments_lexer": "ipython3",
   "version": "3.11.4"
  }
 },
 "nbformat": 4,
 "nbformat_minor": 5
}
