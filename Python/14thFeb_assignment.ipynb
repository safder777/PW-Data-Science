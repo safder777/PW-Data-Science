{
 "cells": [
  {
   "cell_type": "markdown",
   "id": "5a3b669a",
   "metadata": {},
   "source": [
    "### Safder Shakil"
   ]
  },
  {
   "cell_type": "markdown",
   "id": "991845d3",
   "metadata": {},
   "source": [
    "Q1.What is multithreading in python? hy is it used? Name the module used to handle threads in python"
   ]
  },
  {
   "cell_type": "markdown",
   "id": "35749048",
   "metadata": {},
   "source": [
    "Multithreading in Python is a technique used to run multiple threads concurrently within a single process. Threads are lightweight, smaller units of execution that share the same memory space but can run independently.\n",
    "\n",
    "- Why It Is Used\n",
    "Concurrency: Allows multiple tasks to be executed at the same time, which can be useful for performing background operations while the main program continues running. This is particularly useful for I/O-bound tasks like network requests or file operations.\n",
    "\n",
    "Responsiveness: Enhances the responsiveness of applications, especially in scenarios where tasks like reading from or writing to files or databases are involved.\n",
    "\n",
    "Resource Utilization: Helps in utilizing system resources more effectively by allowing threads to run concurrently, which can improve overall performance in I/O-bound tasks.\n",
    "\n",
    "- Module Used\n",
    "The module used to handle threads in Python is the threading module. It provides a way to create and manage threads, synchronize thread execution, and handle thread-related operations.\n",
    "\n",
    "Here’s a brief example of how to use the threading module:"
   ]
  },
  {
   "cell_type": "code",
   "execution_count": 1,
   "id": "9141966f",
   "metadata": {},
   "outputs": [
    {
     "name": "stdout",
     "output_type": "stream",
     "text": [
      "0\n",
      "1\n",
      "2\n",
      "3\n",
      "4\n"
     ]
    }
   ],
   "source": [
    "import threading\n",
    "\n",
    "# Define a function to be run by threads\n",
    "def print_numbers():\n",
    "    for i in range(5):\n",
    "        print(i)\n",
    "\n",
    "# Create a thread\n",
    "thread = threading.Thread(target=print_numbers)\n",
    "\n",
    "# Start the thread\n",
    "thread.start()\n",
    "\n",
    "# Wait for the thread to finish\n",
    "thread.join()\n"
   ]
  },
  {
   "cell_type": "markdown",
   "id": "02fae535",
   "metadata": {},
   "source": [
    "Q2.Why threading module used? rite the use of the following functions\n",
    "- activeCount\n",
    "- currentThread\n",
    "- enumerate)"
   ]
  },
  {
   "cell_type": "markdown",
   "id": "cf07f529",
   "metadata": {},
   "source": [
    "The threading module in Python is used to create and manage threads within a program. It allows developers to run multiple threads concurrently, enabling tasks to be executed in the background without blocking the main program. This can significantly improve the efficiency and responsiveness of applications, particularly when dealing with I/O-bound operations like reading/writing files, making network requests, or handling user input.\n",
    "\n",
    "Functions in the threading Module\n",
    "Here’s how the following functions are used:\n",
    "\n",
    "- 'activeCount()'\n",
    "\n",
    "Use: Returns the number of thread objects that are currently active in the program."
   ]
  },
  {
   "cell_type": "code",
   "execution_count": 2,
   "id": "e1ecdf36",
   "metadata": {},
   "outputs": [
    {
     "name": "stdout",
     "output_type": "stream",
     "text": [
      "Thread task\n",
      "Thread task\n",
      "Active threads: 6\n"
     ]
    },
    {
     "name": "stderr",
     "output_type": "stream",
     "text": [
      "C:\\Users\\safde\\AppData\\Local\\Temp\\ipykernel_12188\\2741565852.py:12: DeprecationWarning: activeCount() is deprecated, use active_count() instead\n",
      "  print(\"Active threads:\", threading.activeCount())\n"
     ]
    }
   ],
   "source": [
    "import threading\n",
    "\n",
    "def task():\n",
    "    print(\"Thread task\")\n",
    "\n",
    "thread1 = threading.Thread(target=task)\n",
    "thread2 = threading.Thread(target=task)\n",
    "\n",
    "thread1.start()\n",
    "thread2.start()\n",
    "\n",
    "print(\"Active threads:\", threading.activeCount())\n"
   ]
  },
  {
   "cell_type": "markdown",
   "id": "e81161b9",
   "metadata": {},
   "source": [
    "- 'currentThread'()\n",
    "\n",
    "Use: Returns the Thread object corresponding to the caller’s thread of control.\n",
    "Example"
   ]
  },
  {
   "cell_type": "code",
   "execution_count": 3,
   "id": "694def46",
   "metadata": {},
   "outputs": [
    {
     "name": "stdout",
     "output_type": "stream",
     "text": [
      "Current thread: Thread-1\n",
      "Current thread: Thread-2\n"
     ]
    },
    {
     "name": "stderr",
     "output_type": "stream",
     "text": [
      "C:\\Users\\safde\\AppData\\Local\\Temp\\ipykernel_12188\\494031184.py:4: DeprecationWarning: currentThread() is deprecated, use current_thread() instead\n",
      "  print(\"Current thread:\", threading.currentThread().getName())\n",
      "C:\\Users\\safde\\AppData\\Local\\Temp\\ipykernel_12188\\494031184.py:4: DeprecationWarning: getName() is deprecated, get the name attribute instead\n",
      "  print(\"Current thread:\", threading.currentThread().getName())\n"
     ]
    }
   ],
   "source": [
    "import threading\n",
    "\n",
    "def task():\n",
    "    print(\"Current thread:\", threading.currentThread().getName())\n",
    "\n",
    "thread1 = threading.Thread(target=task, name=\"Thread-1\")\n",
    "thread2 = threading.Thread(target=task, name=\"Thread-2\")\n",
    "\n",
    "thread1.start()\n",
    "thread2.start()\n"
   ]
  },
  {
   "cell_type": "markdown",
   "id": "75baa376",
   "metadata": {},
   "source": [
    "- 'enumerate()'\n",
    "\n",
    "Use: Returns a list of all Thread objects currently alive. This includes both daemon and non-daemon threads.\n",
    "Example"
   ]
  },
  {
   "cell_type": "code",
   "execution_count": 5,
   "id": "2471f7d4",
   "metadata": {},
   "outputs": [
    {
     "name": "stdout",
     "output_type": "stream",
     "text": [
      "Thread task\n",
      "Thread task\n",
      "Active thread: MainThread\n",
      "Active thread: IOPub\n",
      "Active thread: Heartbeat\n",
      "Active thread: Control\n",
      "Active thread: IPythonHistorySavingThread\n",
      "Active thread: Thread-4\n"
     ]
    },
    {
     "name": "stderr",
     "output_type": "stream",
     "text": [
      "C:\\Users\\safde\\AppData\\Local\\Temp\\ipykernel_12188\\3271677597.py:13: DeprecationWarning: getName() is deprecated, get the name attribute instead\n",
      "  print(\"Active thread:\", thread.getName())\n"
     ]
    }
   ],
   "source": [
    "import threading\n",
    "\n",
    "def task():\n",
    "    print(\"Thread task\")\n",
    "\n",
    "thread1 = threading.Thread(target=task)\n",
    "thread2 = threading.Thread(target=task)\n",
    "\n",
    "thread1.start()\n",
    "thread2.start()\n",
    "\n",
    "for thread in threading.enumerate():\n",
    "    print(\"Active thread:\", thread.getName())\n"
   ]
  },
  {
   "cell_type": "markdown",
   "id": "fd700d58",
   "metadata": {},
   "source": [
    "- activeCount(): Tells you how many threads are currently active.\n",
    "- currentThread(): Identifies the thread currently executing.\n",
    "- enumerate(): Lists all currently active threads.\n"
   ]
  },
  {
   "cell_type": "markdown",
   "id": "c78acd27",
   "metadata": {},
   "source": [
    "3. Explain the following functions\n",
    "- run\n",
    "- start\n",
    "- join\n",
    "- isAlive)"
   ]
  },
  {
   "cell_type": "markdown",
   "id": "126b9c11",
   "metadata": {},
   "source": [
    "These functions are fundamental to managing the lifecycle and behavior of threads when using Python's threading module.\n",
    "\n",
    "- run()\n",
    "\n",
    "Description: This method represents the thread’s activity and is the entry point for the thread's execution. When a thread is started using the start() method, the run() method is automatically invoked in a separate thread of control. You can override the run() method in a subclass to define what the thread should do.\n"
   ]
  },
  {
   "cell_type": "code",
   "execution_count": 6,
   "id": "8c360503",
   "metadata": {},
   "outputs": [
    {
     "name": "stdout",
     "output_type": "stream",
     "text": [
      "Thread is running\n"
     ]
    }
   ],
   "source": [
    "import threading\n",
    "\n",
    "class MyThread(threading.Thread):\n",
    "    def run(self):\n",
    "        print(\"Thread is running\")\n",
    "\n",
    "thread = MyThread()\n",
    "thread.start()  # This internally calls the run() method\n"
   ]
  },
  {
   "cell_type": "markdown",
   "id": "edb9e0bc",
   "metadata": {},
   "source": [
    "- start()\n",
    "\n",
    "Description: This method begins the thread's activity. When start() is called, the thread transitions from the initial state to the runnable state, and the Python interpreter calls the thread’s run() method. This creates a new thread of execution and runs the code defined in run()."
   ]
  },
  {
   "cell_type": "code",
   "execution_count": 7,
   "id": "938b2593",
   "metadata": {},
   "outputs": [
    {
     "name": "stdout",
     "output_type": "stream",
     "text": [
      "Thread has started\n"
     ]
    }
   ],
   "source": [
    "import threading\n",
    "\n",
    "def task():\n",
    "    print(\"Thread has started\")\n",
    "\n",
    "thread = threading.Thread(target=task)\n",
    "thread.start()  # This starts the thread and calls task()\n"
   ]
  },
  {
   "cell_type": "markdown",
   "id": "3d95421a",
   "metadata": {},
   "source": [
    "join()\n",
    "\n",
    "Description: This method makes the calling thread wait until the thread whose join() method is called terminates. It is often used to ensure that a thread has completed its work before the program continues or before the main program exits.\n"
   ]
  },
  {
   "cell_type": "code",
   "execution_count": 8,
   "id": "f86714c1",
   "metadata": {},
   "outputs": [
    {
     "name": "stdout",
     "output_type": "stream",
     "text": [
      "Thread task is running\n",
      "Thread task is done\n",
      "Thread has finished\n"
     ]
    }
   ],
   "source": [
    "import threading\n",
    "\n",
    "def task():\n",
    "    print(\"Thread task is running\")\n",
    "    import time\n",
    "    time.sleep(2)\n",
    "    print(\"Thread task is done\")\n",
    "\n",
    "thread = threading.Thread(target=task)\n",
    "thread.start()\n",
    "\n",
    "thread.join()  # Wait for thread to complete\n",
    "print(\"Thread has finished\")\n"
   ]
  },
  {
   "cell_type": "markdown",
   "id": "44db537f",
   "metadata": {},
   "source": [
    "- isAlive() / is_alive()\n",
    "\n",
    "Description: This method checks whether a thread is still alive (running) or has finished its task. If the thread is still running or is in the process of being executed, it returns True; otherwise, it returns False.\n"
   ]
  },
  {
   "cell_type": "code",
   "execution_count": 9,
   "id": "e73635b5",
   "metadata": {},
   "outputs": [
    {
     "name": "stdout",
     "output_type": "stream",
     "text": [
      "Is thread alive? True\n",
      "Thread task completed\n",
      "Is thread alive after join? False\n"
     ]
    }
   ],
   "source": [
    "import threading\n",
    "\n",
    "def task():\n",
    "    import time\n",
    "    time.sleep(2)\n",
    "    print(\"Thread task completed\")\n",
    "\n",
    "thread = threading.Thread(target=task)\n",
    "thread.start()\n",
    "\n",
    "print(\"Is thread alive?\", thread.is_alive())  # Check if thread is running\n",
    "thread.join()\n",
    "print(\"Is thread alive after join?\", thread.is_alive())  # Check again after join\n"
   ]
  },
  {
   "cell_type": "markdown",
   "id": "c77e2556",
   "metadata": {},
   "source": [
    "- run(): Defines the thread's activity.\n",
    "- start(): Begins thread execution, automatically calling run().\n",
    "- join(): Waits for a thread to finish execution.\n",
    "- is_alive(): Checks if the thread is still executing."
   ]
  },
  {
   "cell_type": "markdown",
   "id": "bd24605b",
   "metadata": {},
   "source": [
    "Q4. Write a python program to create two threads. Thread one must print the list of squares and thread\n",
    "two must print the list of cubes"
   ]
  },
  {
   "cell_type": "code",
   "execution_count": 10,
   "id": "803ede06",
   "metadata": {},
   "outputs": [
    {
     "name": "stdout",
     "output_type": "stream",
     "text": [
      "Squares: [1, 4, 9, 16, 25]\n",
      "Cubes: [1, 8, 27, 64, 125]\n",
      "Both threads have finished execution.\n"
     ]
    }
   ],
   "source": [
    "import threading\n",
    "\n",
    "# Function to print squares of numbers\n",
    "def print_squares(numbers):\n",
    "    squares = [x ** 2 for x in numbers]\n",
    "    print(f\"Squares: {squares}\")\n",
    "\n",
    "# Function to print cubes of numbers\n",
    "def print_cubes(numbers):\n",
    "    cubes = [x ** 3 for x in numbers]\n",
    "    print(f\"Cubes: {cubes}\")\n",
    "\n",
    "# List of numbers to operate on\n",
    "numbers = [1, 2, 3, 4, 5]\n",
    "\n",
    "# Create two threads\n",
    "thread1 = threading.Thread(target=print_squares, args=(numbers,))\n",
    "thread2 = threading.Thread(target=print_cubes, args=(numbers,))\n",
    "\n",
    "# Start the threads\n",
    "thread1.start()\n",
    "thread2.start()\n",
    "\n",
    "# Wait for both threads to finish\n",
    "thread1.join()\n",
    "thread2.join()\n",
    "\n",
    "print(\"Both threads have finished execution.\")\n"
   ]
  },
  {
   "cell_type": "markdown",
   "id": "3983c8b1",
   "metadata": {},
   "source": [
    "Q5. State advantages and disadvantages of multithreading."
   ]
  },
  {
   "cell_type": "markdown",
   "id": "111510f1",
   "metadata": {},
   "source": [
    "Advantages of Multithreading\n",
    "\n",
    "- Concurrency:\n",
    "\n",
    "Multithreading allows multiple tasks to run concurrently, which can improve the efficiency of programs, especially for tasks that involve I/O operations, such as reading from files or making network requests.\n",
    "\n",
    "- Responsiveness:\n",
    "\n",
    "Multithreading helps make applications more responsive. For example, in a GUI application, one thread can handle user input while another performs background tasks, ensuring the user interface remains responsive.\n",
    "\n",
    "- Resource Sharing:\n",
    "\n",
    "Threads share the same memory space within a process, making it easier and more efficient to share data between threads without the need for complex inter-process communication."
   ]
  },
  {
   "cell_type": "markdown",
   "id": "fb3548ab",
   "metadata": {},
   "source": [
    "Disadvantages of Multithreading\n",
    "\n",
    "- Complexity:\n",
    "\n",
    "Writing and debugging multithreaded programs is more complex than single-threaded ones. Issues like race conditions, deadlocks, and thread synchronization can be difficult to diagnose and resolve.\n",
    "\n",
    "- Global Interpreter Lock (GIL) in Python:\n",
    "\n",
    "Python’s Global Interpreter Lock (GIL) can be a limitation in CPU-bound tasks, as it allows only one thread to execute Python bytecode at a time, which can prevent true parallel execution in such cases.\n",
    "\n",
    "- Context Switching Overhead:\n",
    "\n",
    "Context switching between threads has some overhead, which can reduce performance, especially if the threads frequently yield control to each other."
   ]
  },
  {
   "cell_type": "markdown",
   "id": "f8a6ccc2",
   "metadata": {},
   "source": [
    "Q6. Explain deadlocks and race conditions."
   ]
  },
  {
   "cell_type": "markdown",
   "id": "b201f366",
   "metadata": {},
   "source": [
    "What is a Deadlock?\n",
    "A deadlock occurs in a multithreaded or multiprocessing environment when two or more threads (or processes) are waiting for each other to release a resource, leading to a situation where none of the threads can proceed. This creates a cycle of dependency, and because none of the threads can continue, the entire program may become stuck indefinitely.\n",
    "\n",
    "Example of a Deadlock\n",
    "Consider two threads, Thread A and Thread B, and two resources, Resource 1 and Resource 2:\n",
    "\n",
    "Thread A locks Resource 1 and waits to lock Resource 2.\n",
    "Thread B locks Resource 2 and waits to lock Resource 1.\n",
    "Neither thread can proceed because each is waiting for the other to release the resource it needs, resulting in a deadlock."
   ]
  },
  {
   "cell_type": "markdown",
   "id": "771a8279",
   "metadata": {},
   "source": [
    "What is a Race Condition?\n",
    "A race condition occurs when two or more threads (or processes) access shared data and try to change it simultaneously. The final outcome depends on the sequence or timing of the threads' execution, leading to unpredictable and often incorrect results."
   ]
  },
  {
   "cell_type": "markdown",
   "id": "dfd87b51",
   "metadata": {},
   "source": [
    "In a race condition, both threads might read the value of counter simultaneously before either writes back the incremented value. This can cause some increments to be lost, leading to a final count less than expected."
   ]
  },
  {
   "cell_type": "code",
   "execution_count": 12,
   "id": "c76810a4",
   "metadata": {},
   "outputs": [
    {
     "name": "stdout",
     "output_type": "stream",
     "text": [
      "2000\n"
     ]
    }
   ],
   "source": [
    "#Example of race condition\n",
    "\n",
    "counter = 0\n",
    "\n",
    "def increment():\n",
    "    global counter\n",
    "    for _ in range(1000):\n",
    "        counter += 1\n",
    "\n",
    "thread_a = threading.Thread(target=increment)\n",
    "thread_b = threading.Thread(target=increment)\n",
    "\n",
    "thread_a.start()\n",
    "thread_b.start()\n",
    "\n",
    "thread_a.join()\n",
    "thread_b.join()\n",
    "\n",
    "print(counter)\n"
   ]
  },
  {
   "cell_type": "markdown",
   "id": "cbccda79",
   "metadata": {},
   "source": [
    "In a race condition, both threads might read the value of counter simultaneously before either writes back the incremented value. This can cause some increments to be lost, leading to a final count less than expected.\n",
    "\n",
    "\n",
    "- Deadlocks: Occur when two or more threads are blocked forever, each waiting on the other to release a resource. Prevention involves careful resource management and ordering.\n",
    "\n",
    "- Race Conditions: Happen when the outcome of a program depends on the relative timing of threads, leading to unpredictable behavior. Prevention typically involves using locks or other synchronization mechanisms to ensure that only one thread can access shared data at a time.\n"
   ]
  },
  {
   "cell_type": "code",
   "execution_count": null,
   "id": "e61db0ab",
   "metadata": {},
   "outputs": [],
   "source": []
  }
 ],
 "metadata": {
  "kernelspec": {
   "display_name": "Python 3 (ipykernel)",
   "language": "python",
   "name": "python3"
  },
  "language_info": {
   "codemirror_mode": {
    "name": "ipython",
    "version": 3
   },
   "file_extension": ".py",
   "mimetype": "text/x-python",
   "name": "python",
   "nbconvert_exporter": "python",
   "pygments_lexer": "ipython3",
   "version": "3.11.4"
  }
 },
 "nbformat": 4,
 "nbformat_minor": 5
}
